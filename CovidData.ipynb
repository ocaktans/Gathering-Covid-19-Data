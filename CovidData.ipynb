{
 "cells": [
  {
   "cell_type": "code",
   "execution_count": 1,
   "id": "a39af44d",
   "metadata": {},
   "outputs": [],
   "source": [
    "import pandas as pd"
   ]
  },
  {
   "cell_type": "markdown",
   "id": "fd3ae2df",
   "metadata": {},
   "source": [
    "# Extracting Data"
   ]
  },
  {
   "cell_type": "code",
   "execution_count": 2,
   "id": "2c46671e",
   "metadata": {},
   "outputs": [],
   "source": [
    "conf = pd.read_csv(\"https://raw.githubusercontent.com/CSSEGISandData/COVID-19/master/csse_covid_19_data/csse_covid_19_time_series/time_series_covid19_confirmed_global.csv\")\n",
    "recov = pd.read_csv(\"https://raw.githubusercontent.com/CSSEGISandData/COVID-19/master/csse_covid_19_data/csse_covid_19_time_series/time_series_covid19_recovered_global.csv\")\n",
    "deaths = pd.read_csv(\"https://raw.githubusercontent.com/CSSEGISandData/COVID-19/master/csse_covid_19_data/csse_covid_19_time_series/time_series_covid19_deaths_global.csv\")"
   ]
  },
  {
   "cell_type": "code",
   "execution_count": 3,
   "id": "cdeca502",
   "metadata": {},
   "outputs": [
    {
     "name": "stdout",
     "output_type": "stream",
     "text": [
      "(279, 559) (264, 559) (279, 559)\n"
     ]
    }
   ],
   "source": [
    "print(conf.shape, recov.shape, deaths.shape)"
   ]
  },
  {
   "cell_type": "code",
   "execution_count": 4,
   "id": "e127a942",
   "metadata": {},
   "outputs": [
    {
     "data": {
      "text/html": [
       "<div>\n",
       "<style scoped>\n",
       "    .dataframe tbody tr th:only-of-type {\n",
       "        vertical-align: middle;\n",
       "    }\n",
       "\n",
       "    .dataframe tbody tr th {\n",
       "        vertical-align: top;\n",
       "    }\n",
       "\n",
       "    .dataframe thead th {\n",
       "        text-align: right;\n",
       "    }\n",
       "</style>\n",
       "<table border=\"1\" class=\"dataframe\">\n",
       "  <thead>\n",
       "    <tr style=\"text-align: right;\">\n",
       "      <th></th>\n",
       "      <th>Province/State</th>\n",
       "      <th>Country/Region</th>\n",
       "      <th>Lat</th>\n",
       "      <th>Long</th>\n",
       "      <th>1/22/20</th>\n",
       "      <th>1/23/20</th>\n",
       "      <th>1/24/20</th>\n",
       "      <th>1/25/20</th>\n",
       "      <th>1/26/20</th>\n",
       "      <th>1/27/20</th>\n",
       "      <th>...</th>\n",
       "      <th>7/20/21</th>\n",
       "      <th>7/21/21</th>\n",
       "      <th>7/22/21</th>\n",
       "      <th>7/23/21</th>\n",
       "      <th>7/24/21</th>\n",
       "      <th>7/25/21</th>\n",
       "      <th>7/26/21</th>\n",
       "      <th>7/27/21</th>\n",
       "      <th>7/28/21</th>\n",
       "      <th>7/29/21</th>\n",
       "    </tr>\n",
       "  </thead>\n",
       "  <tbody>\n",
       "    <tr>\n",
       "      <th>0</th>\n",
       "      <td>NaN</td>\n",
       "      <td>Afghanistan</td>\n",
       "      <td>33.93911</td>\n",
       "      <td>67.709953</td>\n",
       "      <td>0</td>\n",
       "      <td>0</td>\n",
       "      <td>0</td>\n",
       "      <td>0</td>\n",
       "      <td>0</td>\n",
       "      <td>0</td>\n",
       "      <td>...</td>\n",
       "      <td>142414</td>\n",
       "      <td>142414</td>\n",
       "      <td>143183</td>\n",
       "      <td>143439</td>\n",
       "      <td>143439</td>\n",
       "      <td>143439</td>\n",
       "      <td>144285</td>\n",
       "      <td>145008</td>\n",
       "      <td>145552</td>\n",
       "      <td>145996</td>\n",
       "    </tr>\n",
       "    <tr>\n",
       "      <th>1</th>\n",
       "      <td>NaN</td>\n",
       "      <td>Albania</td>\n",
       "      <td>41.15330</td>\n",
       "      <td>20.168300</td>\n",
       "      <td>0</td>\n",
       "      <td>0</td>\n",
       "      <td>0</td>\n",
       "      <td>0</td>\n",
       "      <td>0</td>\n",
       "      <td>0</td>\n",
       "      <td>...</td>\n",
       "      <td>132740</td>\n",
       "      <td>132763</td>\n",
       "      <td>132797</td>\n",
       "      <td>132828</td>\n",
       "      <td>132853</td>\n",
       "      <td>132875</td>\n",
       "      <td>132891</td>\n",
       "      <td>132922</td>\n",
       "      <td>132952</td>\n",
       "      <td>132999</td>\n",
       "    </tr>\n",
       "    <tr>\n",
       "      <th>2</th>\n",
       "      <td>NaN</td>\n",
       "      <td>Algeria</td>\n",
       "      <td>28.03390</td>\n",
       "      <td>1.659600</td>\n",
       "      <td>0</td>\n",
       "      <td>0</td>\n",
       "      <td>0</td>\n",
       "      <td>0</td>\n",
       "      <td>0</td>\n",
       "      <td>0</td>\n",
       "      <td>...</td>\n",
       "      <td>155784</td>\n",
       "      <td>157005</td>\n",
       "      <td>158213</td>\n",
       "      <td>159563</td>\n",
       "      <td>160868</td>\n",
       "      <td>162155</td>\n",
       "      <td>163660</td>\n",
       "      <td>165204</td>\n",
       "      <td>167131</td>\n",
       "      <td>168668</td>\n",
       "    </tr>\n",
       "    <tr>\n",
       "      <th>3</th>\n",
       "      <td>NaN</td>\n",
       "      <td>Andorra</td>\n",
       "      <td>42.50630</td>\n",
       "      <td>1.521800</td>\n",
       "      <td>0</td>\n",
       "      <td>0</td>\n",
       "      <td>0</td>\n",
       "      <td>0</td>\n",
       "      <td>0</td>\n",
       "      <td>0</td>\n",
       "      <td>...</td>\n",
       "      <td>14379</td>\n",
       "      <td>14379</td>\n",
       "      <td>14464</td>\n",
       "      <td>14498</td>\n",
       "      <td>14498</td>\n",
       "      <td>14498</td>\n",
       "      <td>14577</td>\n",
       "      <td>14586</td>\n",
       "      <td>14586</td>\n",
       "      <td>14655</td>\n",
       "    </tr>\n",
       "    <tr>\n",
       "      <th>4</th>\n",
       "      <td>NaN</td>\n",
       "      <td>Angola</td>\n",
       "      <td>-11.20270</td>\n",
       "      <td>17.873900</td>\n",
       "      <td>0</td>\n",
       "      <td>0</td>\n",
       "      <td>0</td>\n",
       "      <td>0</td>\n",
       "      <td>0</td>\n",
       "      <td>0</td>\n",
       "      <td>...</td>\n",
       "      <td>41061</td>\n",
       "      <td>41227</td>\n",
       "      <td>41405</td>\n",
       "      <td>41629</td>\n",
       "      <td>41736</td>\n",
       "      <td>41780</td>\n",
       "      <td>41879</td>\n",
       "      <td>42110</td>\n",
       "      <td>42288</td>\n",
       "      <td>42486</td>\n",
       "    </tr>\n",
       "  </tbody>\n",
       "</table>\n",
       "<p>5 rows × 559 columns</p>\n",
       "</div>"
      ],
      "text/plain": [
       "  Province/State Country/Region       Lat       Long  1/22/20  1/23/20  \\\n",
       "0            NaN    Afghanistan  33.93911  67.709953        0        0   \n",
       "1            NaN        Albania  41.15330  20.168300        0        0   \n",
       "2            NaN        Algeria  28.03390   1.659600        0        0   \n",
       "3            NaN        Andorra  42.50630   1.521800        0        0   \n",
       "4            NaN         Angola -11.20270  17.873900        0        0   \n",
       "\n",
       "   1/24/20  1/25/20  1/26/20  1/27/20  ...  7/20/21  7/21/21  7/22/21  \\\n",
       "0        0        0        0        0  ...   142414   142414   143183   \n",
       "1        0        0        0        0  ...   132740   132763   132797   \n",
       "2        0        0        0        0  ...   155784   157005   158213   \n",
       "3        0        0        0        0  ...    14379    14379    14464   \n",
       "4        0        0        0        0  ...    41061    41227    41405   \n",
       "\n",
       "   7/23/21  7/24/21  7/25/21  7/26/21  7/27/21  7/28/21  7/29/21  \n",
       "0   143439   143439   143439   144285   145008   145552   145996  \n",
       "1   132828   132853   132875   132891   132922   132952   132999  \n",
       "2   159563   160868   162155   163660   165204   167131   168668  \n",
       "3    14498    14498    14498    14577    14586    14586    14655  \n",
       "4    41629    41736    41780    41879    42110    42288    42486  \n",
       "\n",
       "[5 rows x 559 columns]"
      ]
     },
     "execution_count": 4,
     "metadata": {},
     "output_type": "execute_result"
    }
   ],
   "source": [
    "conf.head(5)"
   ]
  },
  {
   "cell_type": "markdown",
   "id": "809ffd7e",
   "metadata": {},
   "source": [
    "### Country Scale"
   ]
  },
  {
   "cell_type": "code",
   "execution_count": 5,
   "id": "c6b7366a",
   "metadata": {},
   "outputs": [],
   "source": [
    "tables = (conf, recov, deaths)\n",
    "\n",
    "for table in tables:\n",
    "    \n",
    "    table.drop([\"Province/State\", \"Lat\",\"Long\"], axis = 1, inplace = True)\n",
    "    \n",
    "    table.rename({\"Country/Region\":\"Country\"}, axis = 1, inplace = True)"
   ]
  },
  {
   "cell_type": "code",
   "execution_count": 6,
   "id": "4e6dc248",
   "metadata": {},
   "outputs": [
    {
     "data": {
      "text/html": [
       "<div>\n",
       "<style scoped>\n",
       "    .dataframe tbody tr th:only-of-type {\n",
       "        vertical-align: middle;\n",
       "    }\n",
       "\n",
       "    .dataframe tbody tr th {\n",
       "        vertical-align: top;\n",
       "    }\n",
       "\n",
       "    .dataframe thead th {\n",
       "        text-align: right;\n",
       "    }\n",
       "</style>\n",
       "<table border=\"1\" class=\"dataframe\">\n",
       "  <thead>\n",
       "    <tr style=\"text-align: right;\">\n",
       "      <th></th>\n",
       "      <th>Country</th>\n",
       "      <th>1/22/20</th>\n",
       "      <th>1/23/20</th>\n",
       "      <th>1/24/20</th>\n",
       "      <th>1/25/20</th>\n",
       "      <th>1/26/20</th>\n",
       "      <th>1/27/20</th>\n",
       "      <th>1/28/20</th>\n",
       "      <th>1/29/20</th>\n",
       "      <th>1/30/20</th>\n",
       "      <th>...</th>\n",
       "      <th>7/20/21</th>\n",
       "      <th>7/21/21</th>\n",
       "      <th>7/22/21</th>\n",
       "      <th>7/23/21</th>\n",
       "      <th>7/24/21</th>\n",
       "      <th>7/25/21</th>\n",
       "      <th>7/26/21</th>\n",
       "      <th>7/27/21</th>\n",
       "      <th>7/28/21</th>\n",
       "      <th>7/29/21</th>\n",
       "    </tr>\n",
       "  </thead>\n",
       "  <tbody>\n",
       "    <tr>\n",
       "      <th>0</th>\n",
       "      <td>Afghanistan</td>\n",
       "      <td>0</td>\n",
       "      <td>0</td>\n",
       "      <td>0</td>\n",
       "      <td>0</td>\n",
       "      <td>0</td>\n",
       "      <td>0</td>\n",
       "      <td>0</td>\n",
       "      <td>0</td>\n",
       "      <td>0</td>\n",
       "      <td>...</td>\n",
       "      <td>142414</td>\n",
       "      <td>142414</td>\n",
       "      <td>143183</td>\n",
       "      <td>143439</td>\n",
       "      <td>143439</td>\n",
       "      <td>143439</td>\n",
       "      <td>144285</td>\n",
       "      <td>145008</td>\n",
       "      <td>145552</td>\n",
       "      <td>145996</td>\n",
       "    </tr>\n",
       "    <tr>\n",
       "      <th>1</th>\n",
       "      <td>Albania</td>\n",
       "      <td>0</td>\n",
       "      <td>0</td>\n",
       "      <td>0</td>\n",
       "      <td>0</td>\n",
       "      <td>0</td>\n",
       "      <td>0</td>\n",
       "      <td>0</td>\n",
       "      <td>0</td>\n",
       "      <td>0</td>\n",
       "      <td>...</td>\n",
       "      <td>132740</td>\n",
       "      <td>132763</td>\n",
       "      <td>132797</td>\n",
       "      <td>132828</td>\n",
       "      <td>132853</td>\n",
       "      <td>132875</td>\n",
       "      <td>132891</td>\n",
       "      <td>132922</td>\n",
       "      <td>132952</td>\n",
       "      <td>132999</td>\n",
       "    </tr>\n",
       "    <tr>\n",
       "      <th>2</th>\n",
       "      <td>Algeria</td>\n",
       "      <td>0</td>\n",
       "      <td>0</td>\n",
       "      <td>0</td>\n",
       "      <td>0</td>\n",
       "      <td>0</td>\n",
       "      <td>0</td>\n",
       "      <td>0</td>\n",
       "      <td>0</td>\n",
       "      <td>0</td>\n",
       "      <td>...</td>\n",
       "      <td>155784</td>\n",
       "      <td>157005</td>\n",
       "      <td>158213</td>\n",
       "      <td>159563</td>\n",
       "      <td>160868</td>\n",
       "      <td>162155</td>\n",
       "      <td>163660</td>\n",
       "      <td>165204</td>\n",
       "      <td>167131</td>\n",
       "      <td>168668</td>\n",
       "    </tr>\n",
       "    <tr>\n",
       "      <th>3</th>\n",
       "      <td>Andorra</td>\n",
       "      <td>0</td>\n",
       "      <td>0</td>\n",
       "      <td>0</td>\n",
       "      <td>0</td>\n",
       "      <td>0</td>\n",
       "      <td>0</td>\n",
       "      <td>0</td>\n",
       "      <td>0</td>\n",
       "      <td>0</td>\n",
       "      <td>...</td>\n",
       "      <td>14379</td>\n",
       "      <td>14379</td>\n",
       "      <td>14464</td>\n",
       "      <td>14498</td>\n",
       "      <td>14498</td>\n",
       "      <td>14498</td>\n",
       "      <td>14577</td>\n",
       "      <td>14586</td>\n",
       "      <td>14586</td>\n",
       "      <td>14655</td>\n",
       "    </tr>\n",
       "    <tr>\n",
       "      <th>4</th>\n",
       "      <td>Angola</td>\n",
       "      <td>0</td>\n",
       "      <td>0</td>\n",
       "      <td>0</td>\n",
       "      <td>0</td>\n",
       "      <td>0</td>\n",
       "      <td>0</td>\n",
       "      <td>0</td>\n",
       "      <td>0</td>\n",
       "      <td>0</td>\n",
       "      <td>...</td>\n",
       "      <td>41061</td>\n",
       "      <td>41227</td>\n",
       "      <td>41405</td>\n",
       "      <td>41629</td>\n",
       "      <td>41736</td>\n",
       "      <td>41780</td>\n",
       "      <td>41879</td>\n",
       "      <td>42110</td>\n",
       "      <td>42288</td>\n",
       "      <td>42486</td>\n",
       "    </tr>\n",
       "  </tbody>\n",
       "</table>\n",
       "<p>5 rows × 556 columns</p>\n",
       "</div>"
      ],
      "text/plain": [
       "       Country  1/22/20  1/23/20  1/24/20  1/25/20  1/26/20  1/27/20  1/28/20  \\\n",
       "0  Afghanistan        0        0        0        0        0        0        0   \n",
       "1      Albania        0        0        0        0        0        0        0   \n",
       "2      Algeria        0        0        0        0        0        0        0   \n",
       "3      Andorra        0        0        0        0        0        0        0   \n",
       "4       Angola        0        0        0        0        0        0        0   \n",
       "\n",
       "   1/29/20  1/30/20  ...  7/20/21  7/21/21  7/22/21  7/23/21  7/24/21  \\\n",
       "0        0        0  ...   142414   142414   143183   143439   143439   \n",
       "1        0        0  ...   132740   132763   132797   132828   132853   \n",
       "2        0        0  ...   155784   157005   158213   159563   160868   \n",
       "3        0        0  ...    14379    14379    14464    14498    14498   \n",
       "4        0        0  ...    41061    41227    41405    41629    41736   \n",
       "\n",
       "   7/25/21  7/26/21  7/27/21  7/28/21  7/29/21  \n",
       "0   143439   144285   145008   145552   145996  \n",
       "1   132875   132891   132922   132952   132999  \n",
       "2   162155   163660   165204   167131   168668  \n",
       "3    14498    14577    14586    14586    14655  \n",
       "4    41780    41879    42110    42288    42486  \n",
       "\n",
       "[5 rows x 556 columns]"
      ]
     },
     "execution_count": 6,
     "metadata": {},
     "output_type": "execute_result"
    }
   ],
   "source": [
    "conf.head(5)"
   ]
  },
  {
   "cell_type": "code",
   "execution_count": 7,
   "id": "98d566da",
   "metadata": {},
   "outputs": [
    {
     "data": {
      "text/plain": [
       "556"
      ]
     },
     "execution_count": 7,
     "metadata": {},
     "output_type": "execute_result"
    }
   ],
   "source": [
    "conf.shape[1]"
   ]
  },
  {
   "cell_type": "markdown",
   "id": "5f0eba95",
   "metadata": {},
   "source": [
    "##### We are supposed to be left with column counts minus 1 integers(date columns)"
   ]
  },
  {
   "cell_type": "code",
   "execution_count": 8,
   "id": "6c40137c",
   "metadata": {
    "scrolled": false
   },
   "outputs": [
    {
     "name": "stdout",
     "output_type": "stream",
     "text": [
      "int64     555\n",
      "object      1\n",
      "dtype: int64 \n",
      "\n",
      "int64     555\n",
      "object      1\n",
      "dtype: int64 \n",
      "\n",
      "int64     555\n",
      "object      1\n",
      "dtype: int64 \n",
      "\n"
     ]
    }
   ],
   "source": [
    "for table in tables: print(table.dtypes.value_counts(),\"\\n\")"
   ]
  },
  {
   "cell_type": "markdown",
   "id": "fd296be5",
   "metadata": {},
   "source": [
    "##### Aggregation of the values into country scales"
   ]
  },
  {
   "cell_type": "code",
   "execution_count": 9,
   "id": "d0b13980",
   "metadata": {},
   "outputs": [],
   "source": [
    "conf = conf.groupby(\"Country\").sum()\n",
    "recov = recov.groupby(\"Country\").sum()\n",
    "deaths = deaths.groupby(\"Country\").sum()"
   ]
  },
  {
   "cell_type": "code",
   "execution_count": 10,
   "id": "fde81999",
   "metadata": {},
   "outputs": [
    {
     "name": "stdout",
     "output_type": "stream",
     "text": [
      "(195, 555) \n",
      "\n",
      "(195, 555) \n",
      "\n",
      "(195, 555) \n",
      "\n"
     ]
    }
   ],
   "source": [
    "tables = (conf, recov, deaths) \n",
    "\n",
    "for table in tables: print(table.shape, \"\\n\")"
   ]
  },
  {
   "cell_type": "markdown",
   "id": "717b28bb",
   "metadata": {},
   "source": [
    "### Transposing"
   ]
  },
  {
   "cell_type": "code",
   "execution_count": 11,
   "id": "11d8b95d",
   "metadata": {},
   "outputs": [
    {
     "data": {
      "text/html": [
       "<div>\n",
       "<style scoped>\n",
       "    .dataframe tbody tr th:only-of-type {\n",
       "        vertical-align: middle;\n",
       "    }\n",
       "\n",
       "    .dataframe tbody tr th {\n",
       "        vertical-align: top;\n",
       "    }\n",
       "\n",
       "    .dataframe thead th {\n",
       "        text-align: right;\n",
       "    }\n",
       "</style>\n",
       "<table border=\"1\" class=\"dataframe\">\n",
       "  <thead>\n",
       "    <tr style=\"text-align: right;\">\n",
       "      <th></th>\n",
       "      <th>Country</th>\n",
       "      <th>Date</th>\n",
       "      <th>Confirmed</th>\n",
       "    </tr>\n",
       "  </thead>\n",
       "  <tbody>\n",
       "    <tr>\n",
       "      <th>0</th>\n",
       "      <td>Afghanistan</td>\n",
       "      <td>1/22/20</td>\n",
       "      <td>0</td>\n",
       "    </tr>\n",
       "    <tr>\n",
       "      <th>1</th>\n",
       "      <td>Afghanistan</td>\n",
       "      <td>1/23/20</td>\n",
       "      <td>0</td>\n",
       "    </tr>\n",
       "    <tr>\n",
       "      <th>2</th>\n",
       "      <td>Afghanistan</td>\n",
       "      <td>1/24/20</td>\n",
       "      <td>0</td>\n",
       "    </tr>\n",
       "    <tr>\n",
       "      <th>3</th>\n",
       "      <td>Afghanistan</td>\n",
       "      <td>1/25/20</td>\n",
       "      <td>0</td>\n",
       "    </tr>\n",
       "    <tr>\n",
       "      <th>4</th>\n",
       "      <td>Afghanistan</td>\n",
       "      <td>1/26/20</td>\n",
       "      <td>0</td>\n",
       "    </tr>\n",
       "  </tbody>\n",
       "</table>\n",
       "</div>"
      ],
      "text/plain": [
       "       Country     Date  Confirmed\n",
       "0  Afghanistan  1/22/20          0\n",
       "1  Afghanistan  1/23/20          0\n",
       "2  Afghanistan  1/24/20          0\n",
       "3  Afghanistan  1/25/20          0\n",
       "4  Afghanistan  1/26/20          0"
      ]
     },
     "execution_count": 11,
     "metadata": {},
     "output_type": "execute_result"
    }
   ],
   "source": [
    "conf = conf.stack().reset_index().rename({\"level_1\":\"Date\", 0 : \"Confirmed\"}, axis = 1)\n",
    "recov = recov.stack().reset_index().rename({\"level_1\":\"Date\", 0 : \"Recovered\"}, axis = 1)\n",
    "deaths = deaths.stack().reset_index().rename({\"level_1\":\"Date\", 0 : \"Deaths\"}, axis = 1)\n",
    "tables = (conf, recov, deaths)\n",
    "\n",
    "conf.head()"
   ]
  },
  {
   "cell_type": "markdown",
   "id": "1351a082",
   "metadata": {},
   "source": [
    "### Merging"
   ]
  },
  {
   "cell_type": "code",
   "execution_count": 12,
   "id": "0010e31e",
   "metadata": {},
   "outputs": [
    {
     "name": "stdout",
     "output_type": "stream",
     "text": [
      "(108225, 3) \n",
      "\n",
      "(108225, 3) \n",
      "\n",
      "(108225, 3) \n",
      "\n"
     ]
    }
   ],
   "source": [
    "for table in tables: print(table.shape, \"\\n\")"
   ]
  },
  {
   "cell_type": "code",
   "execution_count": 13,
   "id": "77891710",
   "metadata": {},
   "outputs": [],
   "source": [
    "df0 = pd.merge(conf, recov,  how=\"left\", left_on=[\"Country\",\"Date\"], right_on = [\"Country\",\"Date\"])\n",
    "df = pd.merge(df0, deaths,  how=\"left\", left_on=[\"Country\",\"Date\"], right_on = [\"Country\",\"Date\"])\n",
    "df[\"Date\"] = pd.to_datetime(df.Date)"
   ]
  },
  {
   "cell_type": "markdown",
   "id": "d90fbe16",
   "metadata": {},
   "source": [
    "#### Updating data of France"
   ]
  },
  {
   "cell_type": "markdown",
   "id": "596af0b8",
   "metadata": {},
   "source": [
    "Data of France appeared to be faulty in the data cleaning processes(next sections). Data from Ministry of Health in France(\"Ministère des Solidarités et de la Santé\") will be used to replace \"df\" starting from 3rd of April 2020. "
   ]
  },
  {
   "cell_type": "code",
   "execution_count": 14,
   "id": "e6a4aa2d",
   "metadata": {},
   "outputs": [],
   "source": [
    "france = pd.read_csv(\"https://www.data.gouv.fr/fr/datasets/r/f335f9ea-86e3-4ffa-9684-93c009d5e617\")\n",
    "\n",
    "france[\"date\"] = pd.to_datetime(france.date)\n",
    "\n",
    "france[\"Country\"] = \"France\"\n",
    "\n",
    "france = france[[\"Country\",\"date\",\"conf\", \"rad\",\"dc_tot\"]]"
   ]
  },
  {
   "cell_type": "markdown",
   "id": "a9e04080",
   "metadata": {},
   "source": [
    "###### Standardizing the labels from the set"
   ]
  },
  {
   "cell_type": "code",
   "execution_count": 15,
   "id": "2ee5a96e",
   "metadata": {},
   "outputs": [],
   "source": [
    "france.rename({\"date\":\"Date\", \"conf\" : \"Confirmed\",\"rad\" : \"Recovered\",\"dc_tot\":\"Deaths\"}, axis = 1,inplace = True)\n",
    "\n",
    "france.fillna(0, inplace = True)\n",
    "\n",
    "france[[\"Confirmed\",\"Recovered\",\"Deaths\"]] = france[[\"Confirmed\",\"Recovered\",\"Deaths\"]].astype(int)\n",
    "\n",
    "france = france[france[\"Date\"] > \"2020-04-02\"]\n",
    "\n",
    "df[(df[\"Country\"] == \"France\") & (df[\"Date\"] > \"2020-04-02\")]\n",
    "\n",
    "df.drop(df[(df[\"Country\"] == \"France\") & (df[\"Date\"] > \"2020-04-02\")].index, inplace = True)\n",
    "\n",
    "df = df.append(france, ignore_index = True)"
   ]
  },
  {
   "cell_type": "markdown",
   "id": "817719ad",
   "metadata": {},
   "source": [
    "#####  Checking the data frame after the last manipulations"
   ]
  },
  {
   "cell_type": "code",
   "execution_count": 16,
   "id": "04c46230",
   "metadata": {},
   "outputs": [
    {
     "data": {
      "text/plain": [
       "Country      0\n",
       "Date         0\n",
       "Confirmed    0\n",
       "Recovered    0\n",
       "Deaths       0\n",
       "dtype: int64"
      ]
     },
     "execution_count": 16,
     "metadata": {},
     "output_type": "execute_result"
    }
   ],
   "source": [
    "df.isna().sum()"
   ]
  },
  {
   "cell_type": "code",
   "execution_count": 17,
   "id": "368c2b83",
   "metadata": {},
   "outputs": [
    {
     "data": {
      "text/plain": [
       "Country              object\n",
       "Date         datetime64[ns]\n",
       "Confirmed             int64\n",
       "Recovered             int64\n",
       "Deaths                int64\n",
       "dtype: object"
      ]
     },
     "execution_count": 17,
     "metadata": {},
     "output_type": "execute_result"
    }
   ],
   "source": [
    "df.dtypes"
   ]
  },
  {
   "cell_type": "code",
   "execution_count": 18,
   "id": "a134eff0",
   "metadata": {},
   "outputs": [
    {
     "data": {
      "text/html": [
       "<div>\n",
       "<style scoped>\n",
       "    .dataframe tbody tr th:only-of-type {\n",
       "        vertical-align: middle;\n",
       "    }\n",
       "\n",
       "    .dataframe tbody tr th {\n",
       "        vertical-align: top;\n",
       "    }\n",
       "\n",
       "    .dataframe thead th {\n",
       "        text-align: right;\n",
       "    }\n",
       "</style>\n",
       "<table border=\"1\" class=\"dataframe\">\n",
       "  <thead>\n",
       "    <tr style=\"text-align: right;\">\n",
       "      <th></th>\n",
       "      <th>Country</th>\n",
       "      <th>Date</th>\n",
       "      <th>Confirmed</th>\n",
       "      <th>Recovered</th>\n",
       "      <th>Deaths</th>\n",
       "    </tr>\n",
       "  </thead>\n",
       "  <tbody>\n",
       "    <tr>\n",
       "      <th>0</th>\n",
       "      <td>Afghanistan</td>\n",
       "      <td>2020-01-22</td>\n",
       "      <td>0</td>\n",
       "      <td>0</td>\n",
       "      <td>0</td>\n",
       "    </tr>\n",
       "    <tr>\n",
       "      <th>1</th>\n",
       "      <td>Afghanistan</td>\n",
       "      <td>2020-01-23</td>\n",
       "      <td>0</td>\n",
       "      <td>0</td>\n",
       "      <td>0</td>\n",
       "    </tr>\n",
       "    <tr>\n",
       "      <th>2</th>\n",
       "      <td>Afghanistan</td>\n",
       "      <td>2020-01-24</td>\n",
       "      <td>0</td>\n",
       "      <td>0</td>\n",
       "      <td>0</td>\n",
       "    </tr>\n",
       "    <tr>\n",
       "      <th>3</th>\n",
       "      <td>Afghanistan</td>\n",
       "      <td>2020-01-25</td>\n",
       "      <td>0</td>\n",
       "      <td>0</td>\n",
       "      <td>0</td>\n",
       "    </tr>\n",
       "    <tr>\n",
       "      <th>4</th>\n",
       "      <td>Afghanistan</td>\n",
       "      <td>2020-01-26</td>\n",
       "      <td>0</td>\n",
       "      <td>0</td>\n",
       "      <td>0</td>\n",
       "    </tr>\n",
       "  </tbody>\n",
       "</table>\n",
       "</div>"
      ],
      "text/plain": [
       "       Country       Date  Confirmed  Recovered  Deaths\n",
       "0  Afghanistan 2020-01-22          0          0       0\n",
       "1  Afghanistan 2020-01-23          0          0       0\n",
       "2  Afghanistan 2020-01-24          0          0       0\n",
       "3  Afghanistan 2020-01-25          0          0       0\n",
       "4  Afghanistan 2020-01-26          0          0       0"
      ]
     },
     "execution_count": 18,
     "metadata": {},
     "output_type": "execute_result"
    }
   ],
   "source": [
    "df.head(5)"
   ]
  },
  {
   "cell_type": "markdown",
   "id": "66d6843d",
   "metadata": {},
   "source": [
    "### Creating New Attributes"
   ]
  },
  {
   "cell_type": "markdown",
   "id": "1e93cfac",
   "metadata": {},
   "source": [
    "#### Active cases"
   ]
  },
  {
   "cell_type": "code",
   "execution_count": 19,
   "id": "de63a378",
   "metadata": {},
   "outputs": [],
   "source": [
    "df[\"Active Cases\"] = df[\"Confirmed\"] - (df[\"Recovered\"] + df[\"Deaths\"])"
   ]
  },
  {
   "cell_type": "markdown",
   "id": "869a8a46",
   "metadata": {},
   "source": [
    "#### Death Rates in percentage"
   ]
  },
  {
   "cell_type": "code",
   "execution_count": 20,
   "id": "fc603be2",
   "metadata": {},
   "outputs": [],
   "source": [
    "df[\"Death Rate(%)\"] = ((df[\"Deaths\"].divide(df[\"Confirmed\"]))*100).fillna(0)"
   ]
  },
  {
   "cell_type": "markdown",
   "id": "44c3427d",
   "metadata": {},
   "source": [
    "#### Daily Increase of Confirmed Cases"
   ]
  },
  {
   "cell_type": "code",
   "execution_count": 21,
   "id": "f6c95644",
   "metadata": {},
   "outputs": [],
   "source": [
    "df = df.sort_values([\"Country\",\"Date\"])\n",
    "df[\"Increase\"] = df.groupby(\"Country\")[\"Confirmed\"].diff().fillna(0)\n",
    "df[\"Increase\"] = df[\"Increase\"].astype(int)"
   ]
  },
  {
   "cell_type": "markdown",
   "id": "2af0c105",
   "metadata": {},
   "source": [
    "#### The day that countries reported their first case(s)"
   ]
  },
  {
   "cell_type": "code",
   "execution_count": 22,
   "id": "9aeb50e3",
   "metadata": {},
   "outputs": [],
   "source": [
    "firstdays = df[df[\"Confirmed\"] >= 1].groupby(\"Country\").min().reset_index()[[\"Country\",\"Date\"]]\n",
    "firstdays.rename({\"Date\":\"FirstDays\"}, axis = 1, inplace = True)\n",
    "df = pd.merge(df, firstdays,  how=\"left\", left_on=[\"Country\"], right_on = [\"Country\"])"
   ]
  },
  {
   "cell_type": "markdown",
   "id": "d14e18e7",
   "metadata": {},
   "source": [
    "\"Palau\" has no confirmed cases in the source and causes problems with the code. Therefore, it is excluded."
   ]
  },
  {
   "cell_type": "code",
   "execution_count": 23,
   "id": "f6559f70",
   "metadata": {},
   "outputs": [],
   "source": [
    "df = df[df[\"Country\"] != \"Palau\"]"
   ]
  },
  {
   "cell_type": "markdown",
   "id": "978d8e15",
   "metadata": {},
   "source": [
    "#### Counts of the days passed after the first confirmed case for each country"
   ]
  },
  {
   "cell_type": "code",
   "execution_count": 24,
   "id": "fcdc365c",
   "metadata": {},
   "outputs": [],
   "source": [
    "df[\"day_xth\"] = (df[\"Date\"] - df[\"FirstDays\"]).astype(str)"
   ]
  },
  {
   "cell_type": "code",
   "execution_count": 25,
   "id": "89d32d1f",
   "metadata": {},
   "outputs": [],
   "source": [
    "funct = lambda x : int(x[0:-5])\n",
    "\n",
    "df[\"day_xth\"] = df[\"day_xth\"].apply(funct)\n",
    "\n",
    "df.loc[df[\"day_xth\"] < 0 , [\"day_xth\"]] = 0"
   ]
  },
  {
   "cell_type": "markdown",
   "id": "594c730f",
   "metadata": {},
   "source": [
    "#### Population"
   ]
  },
  {
   "cell_type": "markdown",
   "id": "4ffc1d72",
   "metadata": {},
   "source": [
    "Population dataset, which was taken from United Nations, was processed to be merged with this covid-19 set"
   ]
  },
  {
   "cell_type": "code",
   "execution_count": 26,
   "id": "a41f88e9",
   "metadata": {},
   "outputs": [],
   "source": [
    "pop = pd.read_csv(\"Populations.csv\")\n",
    "pop = pop[[\"Country\",\"Total Population(Thousands)\"]]\n",
    "df = pd.merge(df, pop,  how=\"left\", left_on=[\"Country\"], right_on = [\"Country\"]).fillna(0)\n",
    "df.rename({\"Total Population(Thousands)\":\"Population_1k\"}, axis = 1, inplace = True)\n",
    "df[[\"Population_1k\"]] = df[[\"Population_1k\"]].astype(int)"
   ]
  },
  {
   "cell_type": "markdown",
   "id": "053ee15e",
   "metadata": {},
   "source": [
    "#### The day that countries reported at least 10 cases for the first time"
   ]
  },
  {
   "cell_type": "code",
   "execution_count": 27,
   "id": "30282bfe",
   "metadata": {},
   "outputs": [],
   "source": [
    "Case10Day = df[df[\"Confirmed\"] >= 10].groupby(\"Country\").min().reset_index()[[\"Country\",\"Date\"]]\n",
    "Case10Day.rename({\"Date\":\"TenCase\"}, axis = 1, inplace = True)\n",
    "df = pd.merge(df, Case10Day,  how=\"left\", left_on=[\"Country\"], right_on = [\"Country\"])"
   ]
  },
  {
   "cell_type": "markdown",
   "id": "17fb0e0d",
   "metadata": {},
   "source": [
    "#### Cumulative cases per 1,000 people"
   ]
  },
  {
   "cell_type": "code",
   "execution_count": 28,
   "id": "4669456f",
   "metadata": {},
   "outputs": [],
   "source": [
    "df[\"Cases/1000s\"] = df[\"Confirmed\"].divide(df[\"Population_1k\"]).fillna(0)"
   ]
  },
  {
   "cell_type": "code",
   "execution_count": 29,
   "id": "0eb4c424",
   "metadata": {},
   "outputs": [
    {
     "data": {
      "text/html": [
       "<div>\n",
       "<style scoped>\n",
       "    .dataframe tbody tr th:only-of-type {\n",
       "        vertical-align: middle;\n",
       "    }\n",
       "\n",
       "    .dataframe tbody tr th {\n",
       "        vertical-align: top;\n",
       "    }\n",
       "\n",
       "    .dataframe thead th {\n",
       "        text-align: right;\n",
       "    }\n",
       "</style>\n",
       "<table border=\"1\" class=\"dataframe\">\n",
       "  <thead>\n",
       "    <tr style=\"text-align: right;\">\n",
       "      <th></th>\n",
       "      <th>Country</th>\n",
       "      <th>Date</th>\n",
       "      <th>Confirmed</th>\n",
       "      <th>Recovered</th>\n",
       "      <th>Deaths</th>\n",
       "      <th>Active Cases</th>\n",
       "      <th>Death Rate(%)</th>\n",
       "      <th>Increase</th>\n",
       "      <th>FirstDays</th>\n",
       "      <th>day_xth</th>\n",
       "      <th>Population_1k</th>\n",
       "      <th>TenCase</th>\n",
       "      <th>Cases/1000s</th>\n",
       "    </tr>\n",
       "  </thead>\n",
       "  <tbody>\n",
       "    <tr>\n",
       "      <th>0</th>\n",
       "      <td>Afghanistan</td>\n",
       "      <td>2020-01-22</td>\n",
       "      <td>0</td>\n",
       "      <td>0</td>\n",
       "      <td>0</td>\n",
       "      <td>0</td>\n",
       "      <td>0.0</td>\n",
       "      <td>0</td>\n",
       "      <td>2020-02-24</td>\n",
       "      <td>0</td>\n",
       "      <td>38928</td>\n",
       "      <td>2020-03-11</td>\n",
       "      <td>0.0</td>\n",
       "    </tr>\n",
       "    <tr>\n",
       "      <th>1</th>\n",
       "      <td>Afghanistan</td>\n",
       "      <td>2020-01-23</td>\n",
       "      <td>0</td>\n",
       "      <td>0</td>\n",
       "      <td>0</td>\n",
       "      <td>0</td>\n",
       "      <td>0.0</td>\n",
       "      <td>0</td>\n",
       "      <td>2020-02-24</td>\n",
       "      <td>0</td>\n",
       "      <td>38928</td>\n",
       "      <td>2020-03-11</td>\n",
       "      <td>0.0</td>\n",
       "    </tr>\n",
       "    <tr>\n",
       "      <th>2</th>\n",
       "      <td>Afghanistan</td>\n",
       "      <td>2020-01-24</td>\n",
       "      <td>0</td>\n",
       "      <td>0</td>\n",
       "      <td>0</td>\n",
       "      <td>0</td>\n",
       "      <td>0.0</td>\n",
       "      <td>0</td>\n",
       "      <td>2020-02-24</td>\n",
       "      <td>0</td>\n",
       "      <td>38928</td>\n",
       "      <td>2020-03-11</td>\n",
       "      <td>0.0</td>\n",
       "    </tr>\n",
       "    <tr>\n",
       "      <th>3</th>\n",
       "      <td>Afghanistan</td>\n",
       "      <td>2020-01-25</td>\n",
       "      <td>0</td>\n",
       "      <td>0</td>\n",
       "      <td>0</td>\n",
       "      <td>0</td>\n",
       "      <td>0.0</td>\n",
       "      <td>0</td>\n",
       "      <td>2020-02-24</td>\n",
       "      <td>0</td>\n",
       "      <td>38928</td>\n",
       "      <td>2020-03-11</td>\n",
       "      <td>0.0</td>\n",
       "    </tr>\n",
       "    <tr>\n",
       "      <th>4</th>\n",
       "      <td>Afghanistan</td>\n",
       "      <td>2020-01-26</td>\n",
       "      <td>0</td>\n",
       "      <td>0</td>\n",
       "      <td>0</td>\n",
       "      <td>0</td>\n",
       "      <td>0.0</td>\n",
       "      <td>0</td>\n",
       "      <td>2020-02-24</td>\n",
       "      <td>0</td>\n",
       "      <td>38928</td>\n",
       "      <td>2020-03-11</td>\n",
       "      <td>0.0</td>\n",
       "    </tr>\n",
       "  </tbody>\n",
       "</table>\n",
       "</div>"
      ],
      "text/plain": [
       "       Country       Date  Confirmed  Recovered  Deaths  Active Cases  \\\n",
       "0  Afghanistan 2020-01-22          0          0       0             0   \n",
       "1  Afghanistan 2020-01-23          0          0       0             0   \n",
       "2  Afghanistan 2020-01-24          0          0       0             0   \n",
       "3  Afghanistan 2020-01-25          0          0       0             0   \n",
       "4  Afghanistan 2020-01-26          0          0       0             0   \n",
       "\n",
       "   Death Rate(%)  Increase  FirstDays  day_xth  Population_1k    TenCase  \\\n",
       "0            0.0         0 2020-02-24        0          38928 2020-03-11   \n",
       "1            0.0         0 2020-02-24        0          38928 2020-03-11   \n",
       "2            0.0         0 2020-02-24        0          38928 2020-03-11   \n",
       "3            0.0         0 2020-02-24        0          38928 2020-03-11   \n",
       "4            0.0         0 2020-02-24        0          38928 2020-03-11   \n",
       "\n",
       "   Cases/1000s  \n",
       "0          0.0  \n",
       "1          0.0  \n",
       "2          0.0  \n",
       "3          0.0  \n",
       "4          0.0  "
      ]
     },
     "execution_count": 29,
     "metadata": {},
     "output_type": "execute_result"
    }
   ],
   "source": [
    "df.head()"
   ]
  },
  {
   "cell_type": "markdown",
   "id": "526bde47",
   "metadata": {},
   "source": [
    "# Data Cleaning"
   ]
  },
  {
   "cell_type": "markdown",
   "id": "fbf9e1eb",
   "metadata": {},
   "source": [
    "### Checking the source, using anomalies"
   ]
  },
  {
   "cell_type": "markdown",
   "id": "393f0565",
   "metadata": {},
   "source": [
    "##### Counts and cumulative values of the increases where they were calculated as negative values"
   ]
  },
  {
   "cell_type": "code",
   "execution_count": 30,
   "id": "f8929ad5",
   "metadata": {},
   "outputs": [
    {
     "data": {
      "text/html": [
       "<div>\n",
       "<style scoped>\n",
       "    .dataframe tbody tr th:only-of-type {\n",
       "        vertical-align: middle;\n",
       "    }\n",
       "\n",
       "    .dataframe tbody tr th {\n",
       "        vertical-align: top;\n",
       "    }\n",
       "\n",
       "    .dataframe thead th {\n",
       "        text-align: right;\n",
       "    }\n",
       "</style>\n",
       "<table border=\"1\" class=\"dataframe\">\n",
       "  <thead>\n",
       "    <tr style=\"text-align: right;\">\n",
       "      <th></th>\n",
       "      <th>sum</th>\n",
       "      <th>count</th>\n",
       "    </tr>\n",
       "    <tr>\n",
       "      <th>Country</th>\n",
       "      <th></th>\n",
       "      <th></th>\n",
       "    </tr>\n",
       "  </thead>\n",
       "  <tbody>\n",
       "    <tr>\n",
       "      <th>France</th>\n",
       "      <td>-349612</td>\n",
       "      <td>2</td>\n",
       "    </tr>\n",
       "    <tr>\n",
       "      <th>Spain</th>\n",
       "      <td>-84753</td>\n",
       "      <td>3</td>\n",
       "    </tr>\n",
       "    <tr>\n",
       "      <th>Kazakhstan</th>\n",
       "      <td>-59375</td>\n",
       "      <td>1</td>\n",
       "    </tr>\n",
       "    <tr>\n",
       "      <th>Ecuador</th>\n",
       "      <td>-11066</td>\n",
       "      <td>4</td>\n",
       "    </tr>\n",
       "    <tr>\n",
       "      <th>United Kingdom</th>\n",
       "      <td>-7149</td>\n",
       "      <td>2</td>\n",
       "    </tr>\n",
       "    <tr>\n",
       "      <th>Germany</th>\n",
       "      <td>-4910</td>\n",
       "      <td>1</td>\n",
       "    </tr>\n",
       "    <tr>\n",
       "      <th>Czechia</th>\n",
       "      <td>-2214</td>\n",
       "      <td>1</td>\n",
       "    </tr>\n",
       "    <tr>\n",
       "      <th>Denmark</th>\n",
       "      <td>-2001</td>\n",
       "      <td>1</td>\n",
       "    </tr>\n",
       "    <tr>\n",
       "      <th>India</th>\n",
       "      <td>-1858</td>\n",
       "      <td>1</td>\n",
       "    </tr>\n",
       "    <tr>\n",
       "      <th>Luxembourg</th>\n",
       "      <td>-1348</td>\n",
       "      <td>1</td>\n",
       "    </tr>\n",
       "    <tr>\n",
       "      <th>Benin</th>\n",
       "      <td>-209</td>\n",
       "      <td>1</td>\n",
       "    </tr>\n",
       "    <tr>\n",
       "      <th>Portugal</th>\n",
       "      <td>-161</td>\n",
       "      <td>1</td>\n",
       "    </tr>\n",
       "    <tr>\n",
       "      <th>Italy</th>\n",
       "      <td>-148</td>\n",
       "      <td>1</td>\n",
       "    </tr>\n",
       "    <tr>\n",
       "      <th>Jordan</th>\n",
       "      <td>-110</td>\n",
       "      <td>1</td>\n",
       "    </tr>\n",
       "    <tr>\n",
       "      <th>Uganda</th>\n",
       "      <td>-105</td>\n",
       "      <td>2</td>\n",
       "    </tr>\n",
       "    <tr>\n",
       "      <th>Gambia</th>\n",
       "      <td>-100</td>\n",
       "      <td>1</td>\n",
       "    </tr>\n",
       "    <tr>\n",
       "      <th>El Salvador</th>\n",
       "      <td>-92</td>\n",
       "      <td>1</td>\n",
       "    </tr>\n",
       "    <tr>\n",
       "      <th>Israel</th>\n",
       "      <td>-81</td>\n",
       "      <td>2</td>\n",
       "    </tr>\n",
       "    <tr>\n",
       "      <th>Malta</th>\n",
       "      <td>-42</td>\n",
       "      <td>1</td>\n",
       "    </tr>\n",
       "    <tr>\n",
       "      <th>Cote d'Ivoire</th>\n",
       "      <td>-34</td>\n",
       "      <td>1</td>\n",
       "    </tr>\n",
       "  </tbody>\n",
       "</table>\n",
       "</div>"
      ],
      "text/plain": [
       "                   sum  count\n",
       "Country                      \n",
       "France         -349612      2\n",
       "Spain           -84753      3\n",
       "Kazakhstan      -59375      1\n",
       "Ecuador         -11066      4\n",
       "United Kingdom   -7149      2\n",
       "Germany          -4910      1\n",
       "Czechia          -2214      1\n",
       "Denmark          -2001      1\n",
       "India            -1858      1\n",
       "Luxembourg       -1348      1\n",
       "Benin             -209      1\n",
       "Portugal          -161      1\n",
       "Italy             -148      1\n",
       "Jordan            -110      1\n",
       "Uganda            -105      2\n",
       "Gambia            -100      1\n",
       "El Salvador        -92      1\n",
       "Israel             -81      2\n",
       "Malta              -42      1\n",
       "Cote d'Ivoire      -34      1"
      ]
     },
     "execution_count": 30,
     "metadata": {},
     "output_type": "execute_result"
    }
   ],
   "source": [
    "df[df[\"Increase\"] < 0].groupby(\"Country\").agg([\"sum\",\"count\"])[\"Increase\"].sort_values([\"sum\"]).head(20)"
   ]
  },
  {
   "cell_type": "markdown",
   "id": "abfa1b6f",
   "metadata": {},
   "source": [
    "Especially in the first days of the pandemic, these negative values mostly occurred because of the obscurity of the virus and mistakes in the recording process. Sometimes, officials changed their minds and case numbers when we were less experienced.\n",
    "\n",
    "To see the causes in this dataset; data of Spain, France and Ecuador were compared with the data from other sources. They were recorded with the same values, except France.\n",
    "\n",
    "Errors in data of France were discovered in this step. Therefore, updated. The initial value in the count attribute for France was almost 10 days."
   ]
  },
  {
   "cell_type": "markdown",
   "id": "401615f1",
   "metadata": {},
   "source": [
    "##### Counts and cumulative values of the active cases where they were calculated as negative values"
   ]
  },
  {
   "cell_type": "code",
   "execution_count": 31,
   "id": "fadcd35a",
   "metadata": {},
   "outputs": [
    {
     "data": {
      "text/html": [
       "<div>\n",
       "<style scoped>\n",
       "    .dataframe tbody tr th:only-of-type {\n",
       "        vertical-align: middle;\n",
       "    }\n",
       "\n",
       "    .dataframe tbody tr th {\n",
       "        vertical-align: top;\n",
       "    }\n",
       "\n",
       "    .dataframe thead th {\n",
       "        text-align: right;\n",
       "    }\n",
       "</style>\n",
       "<table border=\"1\" class=\"dataframe\">\n",
       "  <thead>\n",
       "    <tr style=\"text-align: right;\">\n",
       "      <th></th>\n",
       "      <th>sum</th>\n",
       "      <th>count</th>\n",
       "    </tr>\n",
       "    <tr>\n",
       "      <th>Country</th>\n",
       "      <th></th>\n",
       "      <th></th>\n",
       "    </tr>\n",
       "  </thead>\n",
       "  <tbody>\n",
       "    <tr>\n",
       "      <th>Peru</th>\n",
       "      <td>-19177676</td>\n",
       "      <td>283</td>\n",
       "    </tr>\n",
       "    <tr>\n",
       "      <th>El Salvador</th>\n",
       "      <td>-3628</td>\n",
       "      <td>4</td>\n",
       "    </tr>\n",
       "    <tr>\n",
       "      <th>Kosovo</th>\n",
       "      <td>-493</td>\n",
       "      <td>14</td>\n",
       "    </tr>\n",
       "    <tr>\n",
       "      <th>Madagascar</th>\n",
       "      <td>-170</td>\n",
       "      <td>2</td>\n",
       "    </tr>\n",
       "    <tr>\n",
       "      <th>Cote d'Ivoire</th>\n",
       "      <td>-62</td>\n",
       "      <td>1</td>\n",
       "    </tr>\n",
       "    <tr>\n",
       "      <th>Singapore</th>\n",
       "      <td>-36</td>\n",
       "      <td>1</td>\n",
       "    </tr>\n",
       "    <tr>\n",
       "      <th>Suriname</th>\n",
       "      <td>-18</td>\n",
       "      <td>4</td>\n",
       "    </tr>\n",
       "    <tr>\n",
       "      <th>Timor-Leste</th>\n",
       "      <td>-4</td>\n",
       "      <td>1</td>\n",
       "    </tr>\n",
       "    <tr>\n",
       "      <th>Djibouti</th>\n",
       "      <td>-3</td>\n",
       "      <td>1</td>\n",
       "    </tr>\n",
       "    <tr>\n",
       "      <th>Uganda</th>\n",
       "      <td>-2</td>\n",
       "      <td>1</td>\n",
       "    </tr>\n",
       "  </tbody>\n",
       "</table>\n",
       "</div>"
      ],
      "text/plain": [
       "                    sum  count\n",
       "Country                       \n",
       "Peru          -19177676    283\n",
       "El Salvador       -3628      4\n",
       "Kosovo             -493     14\n",
       "Madagascar         -170      2\n",
       "Cote d'Ivoire       -62      1\n",
       "Singapore           -36      1\n",
       "Suriname            -18      4\n",
       "Timor-Leste          -4      1\n",
       "Djibouti             -3      1\n",
       "Uganda               -2      1"
      ]
     },
     "execution_count": 31,
     "metadata": {},
     "output_type": "execute_result"
    }
   ],
   "source": [
    "df[df[\"Active Cases\"] < 0].groupby(\"Country\").agg([\"sum\",\"count\"])[\"Active Cases\"].sort_values([\"sum\"]).head(10)"
   ]
  },
  {
   "cell_type": "markdown",
   "id": "0e6abda7",
   "metadata": {},
   "source": [
    "Negative values in the active cases attribute most likely to show the lack/ineffectiveness of testings in a country. Infected individuals may be passing away before a confirmation."
   ]
  },
  {
   "cell_type": "markdown",
   "id": "ad19580b",
   "metadata": {},
   "source": [
    "### Checking the created attributes, comparing different calculations "
   ]
  },
  {
   "cell_type": "markdown",
   "id": "6406a146",
   "metadata": {},
   "source": [
    "#### Exploring NaN values"
   ]
  },
  {
   "cell_type": "code",
   "execution_count": 32,
   "id": "4cba71d5",
   "metadata": {},
   "outputs": [
    {
     "name": "stdout",
     "output_type": "stream",
     "text": [
      "<class 'pandas.core.frame.DataFrame'>\n",
      "Int64Index: 107670 entries, 0 to 107669\n",
      "Data columns (total 13 columns):\n",
      " #   Column         Non-Null Count   Dtype         \n",
      "---  ------         --------------   -----         \n",
      " 0   Country        107670 non-null  object        \n",
      " 1   Date           107670 non-null  datetime64[ns]\n",
      " 2   Confirmed      107670 non-null  int64         \n",
      " 3   Recovered      107670 non-null  int64         \n",
      " 4   Deaths         107670 non-null  int64         \n",
      " 5   Active Cases   107670 non-null  int64         \n",
      " 6   Death Rate(%)  107670 non-null  float64       \n",
      " 7   Increase       107670 non-null  int32         \n",
      " 8   FirstDays      107670 non-null  datetime64[ns]\n",
      " 9   day_xth        107670 non-null  int64         \n",
      " 10  Population_1k  107670 non-null  int32         \n",
      " 11  TenCase        104340 non-null  datetime64[ns]\n",
      " 12  Cases/1000s    107670 non-null  float64       \n",
      "dtypes: datetime64[ns](3), float64(2), int32(2), int64(5), object(1)\n",
      "memory usage: 10.7+ MB\n"
     ]
    }
   ],
   "source": [
    "df.info()"
   ]
  },
  {
   "cell_type": "markdown",
   "id": "d43e7c72",
   "metadata": {},
   "source": [
    "The number of countries that never reported more than 10 cases is shown below"
   ]
  },
  {
   "cell_type": "code",
   "execution_count": 33,
   "id": "6107ba38",
   "metadata": {},
   "outputs": [
    {
     "data": {
      "text/plain": [
       "6"
      ]
     },
     "execution_count": 33,
     "metadata": {},
     "output_type": "execute_result"
    }
   ],
   "source": [
    "(df.groupby(\"Country\").max()[\"Confirmed\"] < 10).sum()"
   ]
  },
  {
   "cell_type": "markdown",
   "id": "5500d924",
   "metadata": {},
   "source": [
    "The number of countries that has a null value in \"TenCaseDate\" is shown below"
   ]
  },
  {
   "cell_type": "code",
   "execution_count": 34,
   "id": "09e96285",
   "metadata": {},
   "outputs": [
    {
     "data": {
      "text/plain": [
       "6"
      ]
     },
     "execution_count": 34,
     "metadata": {},
     "output_type": "execute_result"
    }
   ],
   "source": [
    "df[df[\"TenCase\"].isnull()].value_counts(\"Country\").count()"
   ]
  },
  {
   "cell_type": "code",
   "execution_count": 35,
   "id": "44e080c1",
   "metadata": {},
   "outputs": [
    {
     "data": {
      "text/plain": [
       "Country\n",
       "Kiribati            555\n",
       "MS Zaandam          555\n",
       "Marshall Islands    555\n",
       "Micronesia          555\n",
       "Samoa               555\n",
       "Vanuatu             555\n",
       "dtype: int64"
      ]
     },
     "execution_count": 35,
     "metadata": {},
     "output_type": "execute_result"
    }
   ],
   "source": [
    "df[df[\"TenCase\"].isnull()].value_counts(\"Country\")"
   ]
  },
  {
   "cell_type": "markdown",
   "id": "28965307",
   "metadata": {},
   "source": [
    "Five countries have never reported 10 cases, hence the null values in the \"TenCase\" attribute(MS Zaandam is a cruise ship)"
   ]
  },
  {
   "cell_type": "markdown",
   "id": "e1ba15e7",
   "metadata": {},
   "source": [
    "#### Comparing \"Confirmed\" and \"Increase\" "
   ]
  },
  {
   "cell_type": "markdown",
   "id": "ad3b3e44",
   "metadata": {},
   "source": [
    "The last values in the \"Confirmed\" are supposed to be equal to the sum of \"Increase\""
   ]
  },
  {
   "cell_type": "code",
   "execution_count": 36,
   "id": "4a4b775a",
   "metadata": {},
   "outputs": [
    {
     "data": {
      "text/html": [
       "<div>\n",
       "<style scoped>\n",
       "    .dataframe tbody tr th:only-of-type {\n",
       "        vertical-align: middle;\n",
       "    }\n",
       "\n",
       "    .dataframe tbody tr th {\n",
       "        vertical-align: top;\n",
       "    }\n",
       "\n",
       "    .dataframe thead th {\n",
       "        text-align: right;\n",
       "    }\n",
       "</style>\n",
       "<table border=\"1\" class=\"dataframe\">\n",
       "  <thead>\n",
       "    <tr style=\"text-align: right;\">\n",
       "      <th></th>\n",
       "      <th>0</th>\n",
       "    </tr>\n",
       "    <tr>\n",
       "      <th>Country</th>\n",
       "      <th></th>\n",
       "    </tr>\n",
       "  </thead>\n",
       "  <tbody>\n",
       "    <tr>\n",
       "      <th>China</th>\n",
       "      <td>548</td>\n",
       "    </tr>\n",
       "    <tr>\n",
       "      <th>Japan</th>\n",
       "      <td>2</td>\n",
       "    </tr>\n",
       "    <tr>\n",
       "      <th>Korea, South</th>\n",
       "      <td>1</td>\n",
       "    </tr>\n",
       "    <tr>\n",
       "      <th>Taiwan*</th>\n",
       "      <td>1</td>\n",
       "    </tr>\n",
       "    <tr>\n",
       "      <th>Thailand</th>\n",
       "      <td>4</td>\n",
       "    </tr>\n",
       "    <tr>\n",
       "      <th>US</th>\n",
       "      <td>1</td>\n",
       "    </tr>\n",
       "  </tbody>\n",
       "</table>\n",
       "</div>"
      ],
      "text/plain": [
       "                0\n",
       "Country          \n",
       "China         548\n",
       "Japan           2\n",
       "Korea, South    1\n",
       "Taiwan*         1\n",
       "Thailand        4\n",
       "US              1"
      ]
     },
     "execution_count": 36,
     "metadata": {},
     "output_type": "execute_result"
    }
   ],
   "source": [
    "df2 = df.groupby([\"Country\"]).agg([\"sum\",\"last\"])[[\"Confirmed\",\"Increase\"]]\n",
    "\n",
    "df3 = df2[\"Confirmed\"][\"last\"] - df2[\"Increase\"][\"sum\"]\n",
    "\n",
    "df3 = pd.DataFrame(data = df3)\n",
    "\n",
    "df3[df3[0] !=0]"
   ]
  },
  {
   "cell_type": "markdown",
   "id": "ce140e15",
   "metadata": {},
   "source": [
    "Increase values for the first day in the dataset can not be calculated for six countries that started to confirm cases before the first day in the dataset.\n",
    "\n",
    "Checking to see if only the first days of these countries cause the difference; "
   ]
  },
  {
   "cell_type": "code",
   "execution_count": 37,
   "id": "9b97aefc",
   "metadata": {},
   "outputs": [
    {
     "data": {
      "text/html": [
       "<div>\n",
       "<style scoped>\n",
       "    .dataframe tbody tr th:only-of-type {\n",
       "        vertical-align: middle;\n",
       "    }\n",
       "\n",
       "    .dataframe tbody tr th {\n",
       "        vertical-align: top;\n",
       "    }\n",
       "\n",
       "    .dataframe thead th {\n",
       "        text-align: right;\n",
       "    }\n",
       "</style>\n",
       "<table border=\"1\" class=\"dataframe\">\n",
       "  <thead>\n",
       "    <tr style=\"text-align: right;\">\n",
       "      <th></th>\n",
       "      <th>Country</th>\n",
       "      <th>Confirmed</th>\n",
       "    </tr>\n",
       "  </thead>\n",
       "  <tbody>\n",
       "    <tr>\n",
       "      <th>19980</th>\n",
       "      <td>China</td>\n",
       "      <td>548</td>\n",
       "    </tr>\n",
       "    <tr>\n",
       "      <th>48285</th>\n",
       "      <td>Japan</td>\n",
       "      <td>2</td>\n",
       "    </tr>\n",
       "    <tr>\n",
       "      <th>51060</th>\n",
       "      <td>Korea, South</td>\n",
       "      <td>1</td>\n",
       "    </tr>\n",
       "    <tr>\n",
       "      <th>94905</th>\n",
       "      <td>Taiwan*</td>\n",
       "      <td>1</td>\n",
       "    </tr>\n",
       "    <tr>\n",
       "      <th>96570</th>\n",
       "      <td>Thailand</td>\n",
       "      <td>4</td>\n",
       "    </tr>\n",
       "    <tr>\n",
       "      <th>99900</th>\n",
       "      <td>US</td>\n",
       "      <td>1</td>\n",
       "    </tr>\n",
       "  </tbody>\n",
       "</table>\n",
       "</div>"
      ],
      "text/plain": [
       "            Country  Confirmed\n",
       "19980         China        548\n",
       "48285         Japan          2\n",
       "51060  Korea, South          1\n",
       "94905       Taiwan*          1\n",
       "96570      Thailand          4\n",
       "99900            US          1"
      ]
     },
     "execution_count": 37,
     "metadata": {},
     "output_type": "execute_result"
    }
   ],
   "source": [
    "country6 = df3[df3[0] !=0].index\n",
    "\n",
    "filtered = df[df.Country.isin(country6)]\n",
    "\n",
    "filtered[filtered[\"Date\"] == \"2020-01-22\"][[\"Country\",\"Confirmed\"]]"
   ]
  },
  {
   "cell_type": "markdown",
   "id": "7dc0a5d9",
   "metadata": {},
   "source": [
    "Increase values were correctly calculated for the rest of the set.\n",
    "\n",
    "Also, the \"FirstDays\" for these countries and \"TenCase\" for China must be updated."
   ]
  },
  {
   "cell_type": "code",
   "execution_count": 38,
   "id": "7dd37a89",
   "metadata": {},
   "outputs": [],
   "source": [
    "df.loc[df.Country == \"China\", \"FirstDays\"] = \"2019-12-31\"\n",
    "df.loc[df.Country == \"China\", \"TenCase\"] = \"2019-12-31\"\n",
    "df.loc[df.Country == \"Japan\", \"FirstDays\"] = \"2020-01-16\"\n",
    "df.loc[df.Country == \"Korea, South\", \"FirstDays\"] = \"2020-01-20\"\n",
    "df.loc[df.Country == \"Taiwan*\", \"FirstDays\"] = \"2020-01-21\"\n",
    "df.loc[df.Country == \"Thailand\", \"FirstDays\"] = \"2020-01-08\"\n",
    "df.loc[df.Country == \"US\", \"FirstDays\"] = \"2020-01-21\"\n",
    "\n",
    "df[\"FirstDays\"] = pd.to_datetime(df.FirstDays)\n",
    "df[\"TenCase\"] = pd.to_datetime(df.TenCase)"
   ]
  },
  {
   "cell_type": "markdown",
   "id": "ebe60de1",
   "metadata": {},
   "source": [
    "Lastly, increase for the first day of these 6 countries must be updated"
   ]
  },
  {
   "cell_type": "code",
   "execution_count": 39,
   "id": "714ac158",
   "metadata": {},
   "outputs": [],
   "source": [
    "df.loc[(df[\"Date\"] == \"2020-01-22\") & (df[\"Country\"] == \"China\"), [\"Increase\"]] = None\n",
    "df.loc[(df[\"Date\"] == \"2020-01-22\") & (df[\"Country\"] == \"Japan\"), [\"Increase\"]] = None\n",
    "df.loc[(df[\"Date\"] == \"2020-01-22\") & (df[\"Country\"] == \"Korea, South\"), [\"Increase\"]] = None\n",
    "df.loc[(df[\"Date\"] == \"2020-01-22\") & (df[\"Country\"] == \"Taiwan*\"), [\"Increase\"]] = None\n",
    "df.loc[(df[\"Date\"] == \"2020-01-22\") & (df[\"Country\"] == \"Thailand\"), [\"Increase\"]] = None\n",
    "df.loc[(df[\"Date\"] == \"2020-01-22\") & (df[\"Country\"] == \"US\"), [\"Increase\"]] = None"
   ]
  },
  {
   "cell_type": "markdown",
   "id": "3eb6bb95",
   "metadata": {},
   "source": [
    "# Saving the dataset"
   ]
  },
  {
   "cell_type": "code",
   "execution_count": 40,
   "id": "f89de81b",
   "metadata": {},
   "outputs": [],
   "source": [
    "df.to_csv(\"Covid-19 Dataset.csv\", index = False)"
   ]
  },
  {
   "cell_type": "code",
   "execution_count": 41,
   "id": "3e8b655c",
   "metadata": {},
   "outputs": [
    {
     "data": {
      "text/html": [
       "<div>\n",
       "<style scoped>\n",
       "    .dataframe tbody tr th:only-of-type {\n",
       "        vertical-align: middle;\n",
       "    }\n",
       "\n",
       "    .dataframe tbody tr th {\n",
       "        vertical-align: top;\n",
       "    }\n",
       "\n",
       "    .dataframe thead th {\n",
       "        text-align: right;\n",
       "    }\n",
       "</style>\n",
       "<table border=\"1\" class=\"dataframe\">\n",
       "  <thead>\n",
       "    <tr style=\"text-align: right;\">\n",
       "      <th></th>\n",
       "      <th>Country</th>\n",
       "      <th>Date</th>\n",
       "      <th>Confirmed</th>\n",
       "      <th>Recovered</th>\n",
       "      <th>Deaths</th>\n",
       "      <th>Active Cases</th>\n",
       "      <th>Death Rate(%)</th>\n",
       "      <th>Increase</th>\n",
       "      <th>FirstDays</th>\n",
       "      <th>day_xth</th>\n",
       "      <th>Population_1k</th>\n",
       "      <th>TenCase</th>\n",
       "      <th>Cases/1000s</th>\n",
       "    </tr>\n",
       "  </thead>\n",
       "  <tbody>\n",
       "    <tr>\n",
       "      <th>0</th>\n",
       "      <td>Afghanistan</td>\n",
       "      <td>2020-01-22</td>\n",
       "      <td>0</td>\n",
       "      <td>0</td>\n",
       "      <td>0</td>\n",
       "      <td>0</td>\n",
       "      <td>0.000000</td>\n",
       "      <td>0.0</td>\n",
       "      <td>2020-02-24</td>\n",
       "      <td>0</td>\n",
       "      <td>38928</td>\n",
       "      <td>2020-03-11</td>\n",
       "      <td>0.000000</td>\n",
       "    </tr>\n",
       "    <tr>\n",
       "      <th>1</th>\n",
       "      <td>Afghanistan</td>\n",
       "      <td>2020-01-23</td>\n",
       "      <td>0</td>\n",
       "      <td>0</td>\n",
       "      <td>0</td>\n",
       "      <td>0</td>\n",
       "      <td>0.000000</td>\n",
       "      <td>0.0</td>\n",
       "      <td>2020-02-24</td>\n",
       "      <td>0</td>\n",
       "      <td>38928</td>\n",
       "      <td>2020-03-11</td>\n",
       "      <td>0.000000</td>\n",
       "    </tr>\n",
       "    <tr>\n",
       "      <th>2</th>\n",
       "      <td>Afghanistan</td>\n",
       "      <td>2020-01-24</td>\n",
       "      <td>0</td>\n",
       "      <td>0</td>\n",
       "      <td>0</td>\n",
       "      <td>0</td>\n",
       "      <td>0.000000</td>\n",
       "      <td>0.0</td>\n",
       "      <td>2020-02-24</td>\n",
       "      <td>0</td>\n",
       "      <td>38928</td>\n",
       "      <td>2020-03-11</td>\n",
       "      <td>0.000000</td>\n",
       "    </tr>\n",
       "    <tr>\n",
       "      <th>3</th>\n",
       "      <td>Afghanistan</td>\n",
       "      <td>2020-01-25</td>\n",
       "      <td>0</td>\n",
       "      <td>0</td>\n",
       "      <td>0</td>\n",
       "      <td>0</td>\n",
       "      <td>0.000000</td>\n",
       "      <td>0.0</td>\n",
       "      <td>2020-02-24</td>\n",
       "      <td>0</td>\n",
       "      <td>38928</td>\n",
       "      <td>2020-03-11</td>\n",
       "      <td>0.000000</td>\n",
       "    </tr>\n",
       "    <tr>\n",
       "      <th>4</th>\n",
       "      <td>Afghanistan</td>\n",
       "      <td>2020-01-26</td>\n",
       "      <td>0</td>\n",
       "      <td>0</td>\n",
       "      <td>0</td>\n",
       "      <td>0</td>\n",
       "      <td>0.000000</td>\n",
       "      <td>0.0</td>\n",
       "      <td>2020-02-24</td>\n",
       "      <td>0</td>\n",
       "      <td>38928</td>\n",
       "      <td>2020-03-11</td>\n",
       "      <td>0.000000</td>\n",
       "    </tr>\n",
       "    <tr>\n",
       "      <th>...</th>\n",
       "      <td>...</td>\n",
       "      <td>...</td>\n",
       "      <td>...</td>\n",
       "      <td>...</td>\n",
       "      <td>...</td>\n",
       "      <td>...</td>\n",
       "      <td>...</td>\n",
       "      <td>...</td>\n",
       "      <td>...</td>\n",
       "      <td>...</td>\n",
       "      <td>...</td>\n",
       "      <td>...</td>\n",
       "      <td>...</td>\n",
       "    </tr>\n",
       "    <tr>\n",
       "      <th>107665</th>\n",
       "      <td>Zimbabwe</td>\n",
       "      <td>2021-07-25</td>\n",
       "      <td>97894</td>\n",
       "      <td>65913</td>\n",
       "      <td>3094</td>\n",
       "      <td>28887</td>\n",
       "      <td>3.160561</td>\n",
       "      <td>617.0</td>\n",
       "      <td>2020-03-20</td>\n",
       "      <td>492</td>\n",
       "      <td>14862</td>\n",
       "      <td>2020-04-06</td>\n",
       "      <td>6.586866</td>\n",
       "    </tr>\n",
       "    <tr>\n",
       "      <th>107666</th>\n",
       "      <td>Zimbabwe</td>\n",
       "      <td>2021-07-26</td>\n",
       "      <td>99944</td>\n",
       "      <td>67827</td>\n",
       "      <td>3173</td>\n",
       "      <td>28944</td>\n",
       "      <td>3.174778</td>\n",
       "      <td>2050.0</td>\n",
       "      <td>2020-03-20</td>\n",
       "      <td>493</td>\n",
       "      <td>14862</td>\n",
       "      <td>2020-04-06</td>\n",
       "      <td>6.724802</td>\n",
       "    </tr>\n",
       "    <tr>\n",
       "      <th>107667</th>\n",
       "      <td>Zimbabwe</td>\n",
       "      <td>2021-07-27</td>\n",
       "      <td>101711</td>\n",
       "      <td>70496</td>\n",
       "      <td>3280</td>\n",
       "      <td>27935</td>\n",
       "      <td>3.224823</td>\n",
       "      <td>1767.0</td>\n",
       "      <td>2020-03-20</td>\n",
       "      <td>494</td>\n",
       "      <td>14862</td>\n",
       "      <td>2020-04-06</td>\n",
       "      <td>6.843695</td>\n",
       "    </tr>\n",
       "    <tr>\n",
       "      <th>107668</th>\n",
       "      <td>Zimbabwe</td>\n",
       "      <td>2021-07-28</td>\n",
       "      <td>103567</td>\n",
       "      <td>71383</td>\n",
       "      <td>3340</td>\n",
       "      <td>28844</td>\n",
       "      <td>3.224965</td>\n",
       "      <td>1856.0</td>\n",
       "      <td>2020-03-20</td>\n",
       "      <td>495</td>\n",
       "      <td>14862</td>\n",
       "      <td>2020-04-06</td>\n",
       "      <td>6.968578</td>\n",
       "    </tr>\n",
       "    <tr>\n",
       "      <th>107669</th>\n",
       "      <td>Zimbabwe</td>\n",
       "      <td>2021-07-29</td>\n",
       "      <td>105656</td>\n",
       "      <td>73394</td>\n",
       "      <td>3421</td>\n",
       "      <td>28841</td>\n",
       "      <td>3.237866</td>\n",
       "      <td>2089.0</td>\n",
       "      <td>2020-03-20</td>\n",
       "      <td>496</td>\n",
       "      <td>14862</td>\n",
       "      <td>2020-04-06</td>\n",
       "      <td>7.109137</td>\n",
       "    </tr>\n",
       "  </tbody>\n",
       "</table>\n",
       "<p>107670 rows × 13 columns</p>\n",
       "</div>"
      ],
      "text/plain": [
       "            Country       Date  Confirmed  Recovered  Deaths  Active Cases  \\\n",
       "0       Afghanistan 2020-01-22          0          0       0             0   \n",
       "1       Afghanistan 2020-01-23          0          0       0             0   \n",
       "2       Afghanistan 2020-01-24          0          0       0             0   \n",
       "3       Afghanistan 2020-01-25          0          0       0             0   \n",
       "4       Afghanistan 2020-01-26          0          0       0             0   \n",
       "...             ...        ...        ...        ...     ...           ...   \n",
       "107665     Zimbabwe 2021-07-25      97894      65913    3094         28887   \n",
       "107666     Zimbabwe 2021-07-26      99944      67827    3173         28944   \n",
       "107667     Zimbabwe 2021-07-27     101711      70496    3280         27935   \n",
       "107668     Zimbabwe 2021-07-28     103567      71383    3340         28844   \n",
       "107669     Zimbabwe 2021-07-29     105656      73394    3421         28841   \n",
       "\n",
       "        Death Rate(%)  Increase  FirstDays  day_xth  Population_1k    TenCase  \\\n",
       "0            0.000000       0.0 2020-02-24        0          38928 2020-03-11   \n",
       "1            0.000000       0.0 2020-02-24        0          38928 2020-03-11   \n",
       "2            0.000000       0.0 2020-02-24        0          38928 2020-03-11   \n",
       "3            0.000000       0.0 2020-02-24        0          38928 2020-03-11   \n",
       "4            0.000000       0.0 2020-02-24        0          38928 2020-03-11   \n",
       "...               ...       ...        ...      ...            ...        ...   \n",
       "107665       3.160561     617.0 2020-03-20      492          14862 2020-04-06   \n",
       "107666       3.174778    2050.0 2020-03-20      493          14862 2020-04-06   \n",
       "107667       3.224823    1767.0 2020-03-20      494          14862 2020-04-06   \n",
       "107668       3.224965    1856.0 2020-03-20      495          14862 2020-04-06   \n",
       "107669       3.237866    2089.0 2020-03-20      496          14862 2020-04-06   \n",
       "\n",
       "        Cases/1000s  \n",
       "0          0.000000  \n",
       "1          0.000000  \n",
       "2          0.000000  \n",
       "3          0.000000  \n",
       "4          0.000000  \n",
       "...             ...  \n",
       "107665     6.586866  \n",
       "107666     6.724802  \n",
       "107667     6.843695  \n",
       "107668     6.968578  \n",
       "107669     7.109137  \n",
       "\n",
       "[107670 rows x 13 columns]"
      ]
     },
     "execution_count": 41,
     "metadata": {},
     "output_type": "execute_result"
    }
   ],
   "source": [
    "df"
   ]
  }
 ],
 "metadata": {
  "kernelspec": {
   "display_name": "Python 3",
   "language": "python",
   "name": "python3"
  },
  "language_info": {
   "codemirror_mode": {
    "name": "ipython",
    "version": 3
   },
   "file_extension": ".py",
   "mimetype": "text/x-python",
   "name": "python",
   "nbconvert_exporter": "python",
   "pygments_lexer": "ipython3",
   "version": "3.9.5"
  }
 },
 "nbformat": 4,
 "nbformat_minor": 5
}
