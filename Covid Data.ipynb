{
 "cells": [
  {
   "cell_type": "code",
   "execution_count": 1,
   "id": "a39af44d",
   "metadata": {},
   "outputs": [],
   "source": [
    "import pandas as pd"
   ]
  },
  {
   "cell_type": "markdown",
   "id": "fd3ae2df",
   "metadata": {},
   "source": [
    "# Extracting Data"
   ]
  },
  {
   "cell_type": "code",
   "execution_count": 2,
   "id": "2c46671e",
   "metadata": {},
   "outputs": [],
   "source": [
    "conf = pd.read_csv(\"https://raw.githubusercontent.com/CSSEGISandData/COVID-19/master/csse_covid_19_data/csse_covid_19_time_series/time_series_covid19_confirmed_global.csv\")\n",
    "recov = pd.read_csv(\"https://raw.githubusercontent.com/CSSEGISandData/COVID-19/master/csse_covid_19_data/csse_covid_19_time_series/time_series_covid19_recovered_global.csv\")\n",
    "deaths = pd.read_csv(\"https://raw.githubusercontent.com/CSSEGISandData/COVID-19/master/csse_covid_19_data/csse_covid_19_time_series/time_series_covid19_deaths_global.csv\")"
   ]
  },
  {
   "cell_type": "code",
   "execution_count": 3,
   "id": "cdeca502",
   "metadata": {},
   "outputs": [
    {
     "name": "stdout",
     "output_type": "stream",
     "text": [
      "(275, 487) (260, 487) (275, 487)\n"
     ]
    }
   ],
   "source": [
    "print(conf.shape, recov.shape, deaths.shape)"
   ]
  },
  {
   "cell_type": "code",
   "execution_count": 4,
   "id": "e127a942",
   "metadata": {},
   "outputs": [
    {
     "data": {
      "text/html": [
       "<div>\n",
       "<style scoped>\n",
       "    .dataframe tbody tr th:only-of-type {\n",
       "        vertical-align: middle;\n",
       "    }\n",
       "\n",
       "    .dataframe tbody tr th {\n",
       "        vertical-align: top;\n",
       "    }\n",
       "\n",
       "    .dataframe thead th {\n",
       "        text-align: right;\n",
       "    }\n",
       "</style>\n",
       "<table border=\"1\" class=\"dataframe\">\n",
       "  <thead>\n",
       "    <tr style=\"text-align: right;\">\n",
       "      <th></th>\n",
       "      <th>Province/State</th>\n",
       "      <th>Country/Region</th>\n",
       "      <th>Lat</th>\n",
       "      <th>Long</th>\n",
       "      <th>1/22/20</th>\n",
       "      <th>1/23/20</th>\n",
       "      <th>1/24/20</th>\n",
       "      <th>1/25/20</th>\n",
       "      <th>1/26/20</th>\n",
       "      <th>1/27/20</th>\n",
       "      <th>...</th>\n",
       "      <th>5/9/21</th>\n",
       "      <th>5/10/21</th>\n",
       "      <th>5/11/21</th>\n",
       "      <th>5/12/21</th>\n",
       "      <th>5/13/21</th>\n",
       "      <th>5/14/21</th>\n",
       "      <th>5/15/21</th>\n",
       "      <th>5/16/21</th>\n",
       "      <th>5/17/21</th>\n",
       "      <th>5/18/21</th>\n",
       "    </tr>\n",
       "  </thead>\n",
       "  <tbody>\n",
       "    <tr>\n",
       "      <th>0</th>\n",
       "      <td>NaN</td>\n",
       "      <td>Afghanistan</td>\n",
       "      <td>33.93911</td>\n",
       "      <td>67.709953</td>\n",
       "      <td>0</td>\n",
       "      <td>0</td>\n",
       "      <td>0</td>\n",
       "      <td>0</td>\n",
       "      <td>0</td>\n",
       "      <td>0</td>\n",
       "      <td>...</td>\n",
       "      <td>61842</td>\n",
       "      <td>62063</td>\n",
       "      <td>62403</td>\n",
       "      <td>62718</td>\n",
       "      <td>63045</td>\n",
       "      <td>63355</td>\n",
       "      <td>63412</td>\n",
       "      <td>63484</td>\n",
       "      <td>63598</td>\n",
       "      <td>63819</td>\n",
       "    </tr>\n",
       "    <tr>\n",
       "      <th>1</th>\n",
       "      <td>NaN</td>\n",
       "      <td>Albania</td>\n",
       "      <td>41.15330</td>\n",
       "      <td>20.168300</td>\n",
       "      <td>0</td>\n",
       "      <td>0</td>\n",
       "      <td>0</td>\n",
       "      <td>0</td>\n",
       "      <td>0</td>\n",
       "      <td>0</td>\n",
       "      <td>...</td>\n",
       "      <td>131723</td>\n",
       "      <td>131753</td>\n",
       "      <td>131803</td>\n",
       "      <td>131845</td>\n",
       "      <td>131890</td>\n",
       "      <td>131939</td>\n",
       "      <td>131978</td>\n",
       "      <td>132015</td>\n",
       "      <td>132032</td>\n",
       "      <td>132071</td>\n",
       "    </tr>\n",
       "    <tr>\n",
       "      <th>2</th>\n",
       "      <td>NaN</td>\n",
       "      <td>Algeria</td>\n",
       "      <td>28.03390</td>\n",
       "      <td>1.659600</td>\n",
       "      <td>0</td>\n",
       "      <td>0</td>\n",
       "      <td>0</td>\n",
       "      <td>0</td>\n",
       "      <td>0</td>\n",
       "      <td>0</td>\n",
       "      <td>...</td>\n",
       "      <td>124104</td>\n",
       "      <td>124288</td>\n",
       "      <td>124483</td>\n",
       "      <td>124682</td>\n",
       "      <td>124889</td>\n",
       "      <td>125059</td>\n",
       "      <td>125194</td>\n",
       "      <td>125311</td>\n",
       "      <td>125485</td>\n",
       "      <td>125693</td>\n",
       "    </tr>\n",
       "    <tr>\n",
       "      <th>3</th>\n",
       "      <td>NaN</td>\n",
       "      <td>Andorra</td>\n",
       "      <td>42.50630</td>\n",
       "      <td>1.521800</td>\n",
       "      <td>0</td>\n",
       "      <td>0</td>\n",
       "      <td>0</td>\n",
       "      <td>0</td>\n",
       "      <td>0</td>\n",
       "      <td>0</td>\n",
       "      <td>...</td>\n",
       "      <td>13423</td>\n",
       "      <td>13429</td>\n",
       "      <td>13447</td>\n",
       "      <td>13470</td>\n",
       "      <td>13470</td>\n",
       "      <td>13510</td>\n",
       "      <td>13510</td>\n",
       "      <td>13510</td>\n",
       "      <td>13555</td>\n",
       "      <td>13569</td>\n",
       "    </tr>\n",
       "    <tr>\n",
       "      <th>4</th>\n",
       "      <td>NaN</td>\n",
       "      <td>Angola</td>\n",
       "      <td>-11.20270</td>\n",
       "      <td>17.873900</td>\n",
       "      <td>0</td>\n",
       "      <td>0</td>\n",
       "      <td>0</td>\n",
       "      <td>0</td>\n",
       "      <td>0</td>\n",
       "      <td>0</td>\n",
       "      <td>...</td>\n",
       "      <td>28740</td>\n",
       "      <td>28875</td>\n",
       "      <td>29146</td>\n",
       "      <td>29405</td>\n",
       "      <td>29695</td>\n",
       "      <td>30030</td>\n",
       "      <td>30354</td>\n",
       "      <td>30637</td>\n",
       "      <td>30787</td>\n",
       "      <td>31045</td>\n",
       "    </tr>\n",
       "  </tbody>\n",
       "</table>\n",
       "<p>5 rows × 487 columns</p>\n",
       "</div>"
      ],
      "text/plain": [
       "  Province/State Country/Region       Lat       Long  1/22/20  1/23/20  \\\n",
       "0            NaN    Afghanistan  33.93911  67.709953        0        0   \n",
       "1            NaN        Albania  41.15330  20.168300        0        0   \n",
       "2            NaN        Algeria  28.03390   1.659600        0        0   \n",
       "3            NaN        Andorra  42.50630   1.521800        0        0   \n",
       "4            NaN         Angola -11.20270  17.873900        0        0   \n",
       "\n",
       "   1/24/20  1/25/20  1/26/20  1/27/20  ...  5/9/21  5/10/21  5/11/21  5/12/21  \\\n",
       "0        0        0        0        0  ...   61842    62063    62403    62718   \n",
       "1        0        0        0        0  ...  131723   131753   131803   131845   \n",
       "2        0        0        0        0  ...  124104   124288   124483   124682   \n",
       "3        0        0        0        0  ...   13423    13429    13447    13470   \n",
       "4        0        0        0        0  ...   28740    28875    29146    29405   \n",
       "\n",
       "   5/13/21  5/14/21  5/15/21  5/16/21  5/17/21  5/18/21  \n",
       "0    63045    63355    63412    63484    63598    63819  \n",
       "1   131890   131939   131978   132015   132032   132071  \n",
       "2   124889   125059   125194   125311   125485   125693  \n",
       "3    13470    13510    13510    13510    13555    13569  \n",
       "4    29695    30030    30354    30637    30787    31045  \n",
       "\n",
       "[5 rows x 487 columns]"
      ]
     },
     "execution_count": 4,
     "metadata": {},
     "output_type": "execute_result"
    }
   ],
   "source": [
    "conf.head(5)"
   ]
  },
  {
   "cell_type": "markdown",
   "id": "809ffd7e",
   "metadata": {},
   "source": [
    "### Country Scale"
   ]
  },
  {
   "cell_type": "code",
   "execution_count": 5,
   "id": "c6b7366a",
   "metadata": {},
   "outputs": [],
   "source": [
    "tables = (conf, recov, deaths)\n",
    "for table in tables:\n",
    "    \n",
    "    table.drop([\"Province/State\", \"Lat\",\"Long\"], axis = 1, inplace = True)\n",
    "    \n",
    "    table.rename({\"Country/Region\":\"Country\"}, axis = 1, inplace = True)"
   ]
  },
  {
   "cell_type": "code",
   "execution_count": 6,
   "id": "4e6dc248",
   "metadata": {},
   "outputs": [
    {
     "data": {
      "text/html": [
       "<div>\n",
       "<style scoped>\n",
       "    .dataframe tbody tr th:only-of-type {\n",
       "        vertical-align: middle;\n",
       "    }\n",
       "\n",
       "    .dataframe tbody tr th {\n",
       "        vertical-align: top;\n",
       "    }\n",
       "\n",
       "    .dataframe thead th {\n",
       "        text-align: right;\n",
       "    }\n",
       "</style>\n",
       "<table border=\"1\" class=\"dataframe\">\n",
       "  <thead>\n",
       "    <tr style=\"text-align: right;\">\n",
       "      <th></th>\n",
       "      <th>Country</th>\n",
       "      <th>1/22/20</th>\n",
       "      <th>1/23/20</th>\n",
       "      <th>1/24/20</th>\n",
       "      <th>1/25/20</th>\n",
       "      <th>1/26/20</th>\n",
       "      <th>1/27/20</th>\n",
       "      <th>1/28/20</th>\n",
       "      <th>1/29/20</th>\n",
       "      <th>1/30/20</th>\n",
       "      <th>...</th>\n",
       "      <th>5/9/21</th>\n",
       "      <th>5/10/21</th>\n",
       "      <th>5/11/21</th>\n",
       "      <th>5/12/21</th>\n",
       "      <th>5/13/21</th>\n",
       "      <th>5/14/21</th>\n",
       "      <th>5/15/21</th>\n",
       "      <th>5/16/21</th>\n",
       "      <th>5/17/21</th>\n",
       "      <th>5/18/21</th>\n",
       "    </tr>\n",
       "  </thead>\n",
       "  <tbody>\n",
       "    <tr>\n",
       "      <th>0</th>\n",
       "      <td>Afghanistan</td>\n",
       "      <td>0</td>\n",
       "      <td>0</td>\n",
       "      <td>0</td>\n",
       "      <td>0</td>\n",
       "      <td>0</td>\n",
       "      <td>0</td>\n",
       "      <td>0</td>\n",
       "      <td>0</td>\n",
       "      <td>0</td>\n",
       "      <td>...</td>\n",
       "      <td>61842</td>\n",
       "      <td>62063</td>\n",
       "      <td>62403</td>\n",
       "      <td>62718</td>\n",
       "      <td>63045</td>\n",
       "      <td>63355</td>\n",
       "      <td>63412</td>\n",
       "      <td>63484</td>\n",
       "      <td>63598</td>\n",
       "      <td>63819</td>\n",
       "    </tr>\n",
       "    <tr>\n",
       "      <th>1</th>\n",
       "      <td>Albania</td>\n",
       "      <td>0</td>\n",
       "      <td>0</td>\n",
       "      <td>0</td>\n",
       "      <td>0</td>\n",
       "      <td>0</td>\n",
       "      <td>0</td>\n",
       "      <td>0</td>\n",
       "      <td>0</td>\n",
       "      <td>0</td>\n",
       "      <td>...</td>\n",
       "      <td>131723</td>\n",
       "      <td>131753</td>\n",
       "      <td>131803</td>\n",
       "      <td>131845</td>\n",
       "      <td>131890</td>\n",
       "      <td>131939</td>\n",
       "      <td>131978</td>\n",
       "      <td>132015</td>\n",
       "      <td>132032</td>\n",
       "      <td>132071</td>\n",
       "    </tr>\n",
       "    <tr>\n",
       "      <th>2</th>\n",
       "      <td>Algeria</td>\n",
       "      <td>0</td>\n",
       "      <td>0</td>\n",
       "      <td>0</td>\n",
       "      <td>0</td>\n",
       "      <td>0</td>\n",
       "      <td>0</td>\n",
       "      <td>0</td>\n",
       "      <td>0</td>\n",
       "      <td>0</td>\n",
       "      <td>...</td>\n",
       "      <td>124104</td>\n",
       "      <td>124288</td>\n",
       "      <td>124483</td>\n",
       "      <td>124682</td>\n",
       "      <td>124889</td>\n",
       "      <td>125059</td>\n",
       "      <td>125194</td>\n",
       "      <td>125311</td>\n",
       "      <td>125485</td>\n",
       "      <td>125693</td>\n",
       "    </tr>\n",
       "    <tr>\n",
       "      <th>3</th>\n",
       "      <td>Andorra</td>\n",
       "      <td>0</td>\n",
       "      <td>0</td>\n",
       "      <td>0</td>\n",
       "      <td>0</td>\n",
       "      <td>0</td>\n",
       "      <td>0</td>\n",
       "      <td>0</td>\n",
       "      <td>0</td>\n",
       "      <td>0</td>\n",
       "      <td>...</td>\n",
       "      <td>13423</td>\n",
       "      <td>13429</td>\n",
       "      <td>13447</td>\n",
       "      <td>13470</td>\n",
       "      <td>13470</td>\n",
       "      <td>13510</td>\n",
       "      <td>13510</td>\n",
       "      <td>13510</td>\n",
       "      <td>13555</td>\n",
       "      <td>13569</td>\n",
       "    </tr>\n",
       "    <tr>\n",
       "      <th>4</th>\n",
       "      <td>Angola</td>\n",
       "      <td>0</td>\n",
       "      <td>0</td>\n",
       "      <td>0</td>\n",
       "      <td>0</td>\n",
       "      <td>0</td>\n",
       "      <td>0</td>\n",
       "      <td>0</td>\n",
       "      <td>0</td>\n",
       "      <td>0</td>\n",
       "      <td>...</td>\n",
       "      <td>28740</td>\n",
       "      <td>28875</td>\n",
       "      <td>29146</td>\n",
       "      <td>29405</td>\n",
       "      <td>29695</td>\n",
       "      <td>30030</td>\n",
       "      <td>30354</td>\n",
       "      <td>30637</td>\n",
       "      <td>30787</td>\n",
       "      <td>31045</td>\n",
       "    </tr>\n",
       "  </tbody>\n",
       "</table>\n",
       "<p>5 rows × 484 columns</p>\n",
       "</div>"
      ],
      "text/plain": [
       "       Country  1/22/20  1/23/20  1/24/20  1/25/20  1/26/20  1/27/20  1/28/20  \\\n",
       "0  Afghanistan        0        0        0        0        0        0        0   \n",
       "1      Albania        0        0        0        0        0        0        0   \n",
       "2      Algeria        0        0        0        0        0        0        0   \n",
       "3      Andorra        0        0        0        0        0        0        0   \n",
       "4       Angola        0        0        0        0        0        0        0   \n",
       "\n",
       "   1/29/20  1/30/20  ...  5/9/21  5/10/21  5/11/21  5/12/21  5/13/21  5/14/21  \\\n",
       "0        0        0  ...   61842    62063    62403    62718    63045    63355   \n",
       "1        0        0  ...  131723   131753   131803   131845   131890   131939   \n",
       "2        0        0  ...  124104   124288   124483   124682   124889   125059   \n",
       "3        0        0  ...   13423    13429    13447    13470    13470    13510   \n",
       "4        0        0  ...   28740    28875    29146    29405    29695    30030   \n",
       "\n",
       "   5/15/21  5/16/21  5/17/21  5/18/21  \n",
       "0    63412    63484    63598    63819  \n",
       "1   131978   132015   132032   132071  \n",
       "2   125194   125311   125485   125693  \n",
       "3    13510    13510    13555    13569  \n",
       "4    30354    30637    30787    31045  \n",
       "\n",
       "[5 rows x 484 columns]"
      ]
     },
     "execution_count": 6,
     "metadata": {},
     "output_type": "execute_result"
    }
   ],
   "source": [
    "conf.head(5)"
   ]
  },
  {
   "cell_type": "code",
   "execution_count": 7,
   "id": "98d566da",
   "metadata": {},
   "outputs": [
    {
     "data": {
      "text/plain": [
       "484"
      ]
     },
     "execution_count": 7,
     "metadata": {},
     "output_type": "execute_result"
    }
   ],
   "source": [
    "conf.shape[1]"
   ]
  },
  {
   "cell_type": "markdown",
   "id": "5f0eba95",
   "metadata": {},
   "source": [
    "##### We are supposed to be left with column counts minus 1 integers(date columns)"
   ]
  },
  {
   "cell_type": "code",
   "execution_count": 8,
   "id": "6c40137c",
   "metadata": {
    "scrolled": false
   },
   "outputs": [
    {
     "name": "stdout",
     "output_type": "stream",
     "text": [
      "int64     483\n",
      "object      1\n",
      "dtype: int64 \n",
      "\n",
      "int64     483\n",
      "object      1\n",
      "dtype: int64 \n",
      "\n",
      "int64     483\n",
      "object      1\n",
      "dtype: int64 \n",
      "\n"
     ]
    }
   ],
   "source": [
    "for table in tables:\n",
    "    \n",
    "    print(table.dtypes.value_counts(),\"\\n\")"
   ]
  },
  {
   "cell_type": "markdown",
   "id": "fd296be5",
   "metadata": {},
   "source": [
    "##### Aggregation of the values into country scales"
   ]
  },
  {
   "cell_type": "code",
   "execution_count": 9,
   "id": "d0b13980",
   "metadata": {},
   "outputs": [],
   "source": [
    "conf = conf.groupby(\"Country\").sum()\n",
    "recov = recov.groupby(\"Country\").sum()\n",
    "deaths = deaths.groupby(\"Country\").sum()"
   ]
  },
  {
   "cell_type": "code",
   "execution_count": 10,
   "id": "fde81999",
   "metadata": {},
   "outputs": [
    {
     "name": "stdout",
     "output_type": "stream",
     "text": [
      "(275, 484) \n",
      "\n",
      "(260, 484) \n",
      "\n",
      "(275, 484) \n",
      "\n"
     ]
    }
   ],
   "source": [
    "for table in tables:\n",
    "    \n",
    "    print(table.shape, \"\\n\")"
   ]
  },
  {
   "cell_type": "markdown",
   "id": "717b28bb",
   "metadata": {},
   "source": [
    "### Transposing"
   ]
  },
  {
   "cell_type": "code",
   "execution_count": 11,
   "id": "11d8b95d",
   "metadata": {},
   "outputs": [
    {
     "data": {
      "text/html": [
       "<div>\n",
       "<style scoped>\n",
       "    .dataframe tbody tr th:only-of-type {\n",
       "        vertical-align: middle;\n",
       "    }\n",
       "\n",
       "    .dataframe tbody tr th {\n",
       "        vertical-align: top;\n",
       "    }\n",
       "\n",
       "    .dataframe thead th {\n",
       "        text-align: right;\n",
       "    }\n",
       "</style>\n",
       "<table border=\"1\" class=\"dataframe\">\n",
       "  <thead>\n",
       "    <tr style=\"text-align: right;\">\n",
       "      <th></th>\n",
       "      <th>Country</th>\n",
       "      <th>Date</th>\n",
       "      <th>Confirmed</th>\n",
       "    </tr>\n",
       "  </thead>\n",
       "  <tbody>\n",
       "    <tr>\n",
       "      <th>0</th>\n",
       "      <td>Afghanistan</td>\n",
       "      <td>1/22/20</td>\n",
       "      <td>0</td>\n",
       "    </tr>\n",
       "    <tr>\n",
       "      <th>1</th>\n",
       "      <td>Afghanistan</td>\n",
       "      <td>1/23/20</td>\n",
       "      <td>0</td>\n",
       "    </tr>\n",
       "    <tr>\n",
       "      <th>2</th>\n",
       "      <td>Afghanistan</td>\n",
       "      <td>1/24/20</td>\n",
       "      <td>0</td>\n",
       "    </tr>\n",
       "    <tr>\n",
       "      <th>3</th>\n",
       "      <td>Afghanistan</td>\n",
       "      <td>1/25/20</td>\n",
       "      <td>0</td>\n",
       "    </tr>\n",
       "    <tr>\n",
       "      <th>4</th>\n",
       "      <td>Afghanistan</td>\n",
       "      <td>1/26/20</td>\n",
       "      <td>0</td>\n",
       "    </tr>\n",
       "  </tbody>\n",
       "</table>\n",
       "</div>"
      ],
      "text/plain": [
       "       Country     Date  Confirmed\n",
       "0  Afghanistan  1/22/20          0\n",
       "1  Afghanistan  1/23/20          0\n",
       "2  Afghanistan  1/24/20          0\n",
       "3  Afghanistan  1/25/20          0\n",
       "4  Afghanistan  1/26/20          0"
      ]
     },
     "execution_count": 11,
     "metadata": {},
     "output_type": "execute_result"
    }
   ],
   "source": [
    "conf = conf.stack().reset_index().rename({\"level_1\":\"Date\", 0 : \"Confirmed\"}, axis = 1)\n",
    "recov = recov.stack().reset_index().rename({\"level_1\":\"Date\", 0 : \"Recovered\"}, axis = 1)\n",
    "deaths = deaths.stack().reset_index().rename({\"level_1\":\"Date\", 0 : \"Deaths\"}, axis = 1)\n",
    "tables = (conf, recov, deaths)\n",
    "\n",
    "conf.head()"
   ]
  },
  {
   "cell_type": "markdown",
   "id": "1351a082",
   "metadata": {},
   "source": [
    "### Merging"
   ]
  },
  {
   "cell_type": "code",
   "execution_count": 12,
   "id": "0010e31e",
   "metadata": {},
   "outputs": [
    {
     "name": "stdout",
     "output_type": "stream",
     "text": [
      "(92736, 3) \n",
      "\n",
      "(92736, 3) \n",
      "\n",
      "(92736, 3) \n",
      "\n"
     ]
    }
   ],
   "source": [
    "for table in tables:\n",
    "    \n",
    "    print(table.shape, \"\\n\")"
   ]
  },
  {
   "cell_type": "code",
   "execution_count": 13,
   "id": "77891710",
   "metadata": {},
   "outputs": [],
   "source": [
    "df0 = pd.merge(conf, recov,  how=\"left\", left_on=[\"Country\",\"Date\"], right_on = [\"Country\",\"Date\"])\n",
    "df = pd.merge(df0, deaths,  how=\"left\", left_on=[\"Country\",\"Date\"], right_on = [\"Country\",\"Date\"])\n",
    "df[\"Date\"] = pd.to_datetime(df.Date)"
   ]
  },
  {
   "cell_type": "markdown",
   "id": "d90fbe16",
   "metadata": {},
   "source": [
    "#### Updating data of France"
   ]
  },
  {
   "cell_type": "markdown",
   "id": "596af0b8",
   "metadata": {},
   "source": [
    "Data of France appeared to be faulty in the data cleaning processes(next sections). Data from Ministry of Health in France(\"Ministère des Solidarités et de la Santé\") will be used to replace \"df\" starting from 3rd of April 2020. "
   ]
  },
  {
   "cell_type": "code",
   "execution_count": 14,
   "id": "e6a4aa2d",
   "metadata": {},
   "outputs": [],
   "source": [
    "france = pd.read_csv(\"https://www.data.gouv.fr/fr/datasets/r/f335f9ea-86e3-4ffa-9684-93c009d5e617\")\n",
    "\n",
    "france[\"date\"] = pd.to_datetime(france.date)\n",
    "\n",
    "france[\"Country\"] = \"France\"\n",
    "\n",
    "france = france[[\"Country\",\"date\",\"conf\", \"rad\",\"dc_tot\"]]\n",
    "\n",
    "## Standartizing the labels from the set\n",
    "\n",
    "france.rename({\"date\":\"Date\", \"conf\" : \"Confirmed\",\"rad\" : \"Recovered\",\"dc_tot\":\"Deaths\"}, axis = 1,inplace = True)\n",
    "\n",
    "france.fillna(0, inplace = True)\n",
    "\n",
    "france[[\"Confirmed\",\"Recovered\",\"Deaths\"]] = france[[\"Confirmed\",\"Recovered\",\"Deaths\"]].astype(int)\n",
    "\n",
    "france = france[france[\"Date\"] > \"2020-04-02\"]\n",
    "\n",
    "df[(df[\"Country\"] == \"France\") & (df[\"Date\"] > \"2020-04-02\")]\n",
    "\n",
    "df.drop(df[(df[\"Country\"] == \"France\") & (df[\"Date\"] > \"2020-04-02\")].index, inplace = True)\n",
    "\n",
    "df = df.append(france, ignore_index = True)\n"
   ]
  },
  {
   "cell_type": "markdown",
   "id": "817719ad",
   "metadata": {},
   "source": [
    "#####  Checking the data frame after the last manipulations"
   ]
  },
  {
   "cell_type": "code",
   "execution_count": 15,
   "id": "04c46230",
   "metadata": {},
   "outputs": [
    {
     "data": {
      "text/plain": [
       "Country      0\n",
       "Date         0\n",
       "Confirmed    0\n",
       "Recovered    0\n",
       "Deaths       0\n",
       "dtype: int64"
      ]
     },
     "execution_count": 15,
     "metadata": {},
     "output_type": "execute_result"
    }
   ],
   "source": [
    "df.isna().sum()"
   ]
  },
  {
   "cell_type": "code",
   "execution_count": 16,
   "id": "368c2b83",
   "metadata": {},
   "outputs": [
    {
     "data": {
      "text/plain": [
       "Country              object\n",
       "Date         datetime64[ns]\n",
       "Confirmed             int64\n",
       "Recovered             int64\n",
       "Deaths                int64\n",
       "dtype: object"
      ]
     },
     "execution_count": 16,
     "metadata": {},
     "output_type": "execute_result"
    }
   ],
   "source": [
    "df.dtypes"
   ]
  },
  {
   "cell_type": "code",
   "execution_count": 17,
   "id": "a134eff0",
   "metadata": {},
   "outputs": [
    {
     "data": {
      "text/html": [
       "<div>\n",
       "<style scoped>\n",
       "    .dataframe tbody tr th:only-of-type {\n",
       "        vertical-align: middle;\n",
       "    }\n",
       "\n",
       "    .dataframe tbody tr th {\n",
       "        vertical-align: top;\n",
       "    }\n",
       "\n",
       "    .dataframe thead th {\n",
       "        text-align: right;\n",
       "    }\n",
       "</style>\n",
       "<table border=\"1\" class=\"dataframe\">\n",
       "  <thead>\n",
       "    <tr style=\"text-align: right;\">\n",
       "      <th></th>\n",
       "      <th>Country</th>\n",
       "      <th>Date</th>\n",
       "      <th>Confirmed</th>\n",
       "      <th>Recovered</th>\n",
       "      <th>Deaths</th>\n",
       "    </tr>\n",
       "  </thead>\n",
       "  <tbody>\n",
       "    <tr>\n",
       "      <th>0</th>\n",
       "      <td>Afghanistan</td>\n",
       "      <td>2020-01-22</td>\n",
       "      <td>0</td>\n",
       "      <td>0</td>\n",
       "      <td>0</td>\n",
       "    </tr>\n",
       "    <tr>\n",
       "      <th>1</th>\n",
       "      <td>Afghanistan</td>\n",
       "      <td>2020-01-23</td>\n",
       "      <td>0</td>\n",
       "      <td>0</td>\n",
       "      <td>0</td>\n",
       "    </tr>\n",
       "    <tr>\n",
       "      <th>2</th>\n",
       "      <td>Afghanistan</td>\n",
       "      <td>2020-01-24</td>\n",
       "      <td>0</td>\n",
       "      <td>0</td>\n",
       "      <td>0</td>\n",
       "    </tr>\n",
       "    <tr>\n",
       "      <th>3</th>\n",
       "      <td>Afghanistan</td>\n",
       "      <td>2020-01-25</td>\n",
       "      <td>0</td>\n",
       "      <td>0</td>\n",
       "      <td>0</td>\n",
       "    </tr>\n",
       "    <tr>\n",
       "      <th>4</th>\n",
       "      <td>Afghanistan</td>\n",
       "      <td>2020-01-26</td>\n",
       "      <td>0</td>\n",
       "      <td>0</td>\n",
       "      <td>0</td>\n",
       "    </tr>\n",
       "  </tbody>\n",
       "</table>\n",
       "</div>"
      ],
      "text/plain": [
       "       Country       Date  Confirmed  Recovered  Deaths\n",
       "0  Afghanistan 2020-01-22          0          0       0\n",
       "1  Afghanistan 2020-01-23          0          0       0\n",
       "2  Afghanistan 2020-01-24          0          0       0\n",
       "3  Afghanistan 2020-01-25          0          0       0\n",
       "4  Afghanistan 2020-01-26          0          0       0"
      ]
     },
     "execution_count": 17,
     "metadata": {},
     "output_type": "execute_result"
    }
   ],
   "source": [
    "df.head(5)"
   ]
  },
  {
   "cell_type": "markdown",
   "id": "66d6843d",
   "metadata": {},
   "source": [
    "### Creating New Attributes"
   ]
  },
  {
   "cell_type": "markdown",
   "id": "1e93cfac",
   "metadata": {},
   "source": [
    "#### Active cases"
   ]
  },
  {
   "cell_type": "code",
   "execution_count": 18,
   "id": "de63a378",
   "metadata": {},
   "outputs": [],
   "source": [
    "df[\"Active Cases\"] = df[\"Confirmed\"] - (df[\"Recovered\"] + df[\"Deaths\"])"
   ]
  },
  {
   "cell_type": "markdown",
   "id": "869a8a46",
   "metadata": {},
   "source": [
    "#### Death Rates in percentage"
   ]
  },
  {
   "cell_type": "code",
   "execution_count": 19,
   "id": "fc603be2",
   "metadata": {},
   "outputs": [],
   "source": [
    "df[\"Death Rate(%)\"] = ((df[\"Deaths\"].divide(df[\"Confirmed\"]))*100).fillna(0)"
   ]
  },
  {
   "cell_type": "markdown",
   "id": "44c3427d",
   "metadata": {},
   "source": [
    "#### Daily Increase of Confirmed Cases"
   ]
  },
  {
   "cell_type": "code",
   "execution_count": 20,
   "id": "f6c95644",
   "metadata": {},
   "outputs": [],
   "source": [
    "df = df.sort_values([\"Country\",\"Date\"])\n",
    "df[\"Increase\"] = df.groupby(\"Country\")[\"Confirmed\"].diff().fillna(0).astype(int)"
   ]
  },
  {
   "cell_type": "markdown",
   "id": "2af0c105",
   "metadata": {},
   "source": [
    "#### The day that countries reported their first case(s)"
   ]
  },
  {
   "cell_type": "code",
   "execution_count": 21,
   "id": "9aeb50e3",
   "metadata": {},
   "outputs": [],
   "source": [
    "firstdays = df[df[\"Confirmed\"] >= 1].groupby(\"Country\").min().reset_index()[[\"Country\",\"Date\"]]\n",
    "firstdays.rename({\"Date\":\"FirstDays\"}, axis = 1, inplace = True)\n",
    "df = pd.merge(df, firstdays,  how=\"left\", left_on=[\"Country\"], right_on = [\"Country\"])"
   ]
  },
  {
   "cell_type": "markdown",
   "id": "978d8e15",
   "metadata": {},
   "source": [
    "#### Counts of the days passed after the first confirmed case for each country"
   ]
  },
  {
   "cell_type": "code",
   "execution_count": 22,
   "id": "fcdc365c",
   "metadata": {},
   "outputs": [],
   "source": [
    "df[\"day_xth\"] = (df[\"Date\"] - df[\"FirstDays\"]).astype(str)\n",
    "\n",
    "funct = lambda x : int(x[0:-5])\n",
    "\n",
    "df[\"day_xth\"] = df[\"day_xth\"].apply(funct)\n",
    "\n",
    "df.loc[df['day_xth'] < 0 , [\"day_xth\"]] = 0"
   ]
  },
  {
   "cell_type": "markdown",
   "id": "594c730f",
   "metadata": {},
   "source": [
    "#### Population"
   ]
  },
  {
   "cell_type": "markdown",
   "id": "4ffc1d72",
   "metadata": {},
   "source": [
    "Population dataset, which was taken from United Nations, was processed to be merged with this covid-19 set"
   ]
  },
  {
   "cell_type": "code",
   "execution_count": 23,
   "id": "a41f88e9",
   "metadata": {},
   "outputs": [],
   "source": [
    "pop = pd.read_csv(\"Populations.csv\")\n",
    "pop = pop[[\"Country\",\"Total Population(Thousands)\"]]\n",
    "df = pd.merge(df, pop,  how=\"left\", left_on=[\"Country\"], right_on = [\"Country\"]).fillna(0)\n",
    "df.rename({\"Total Population(Thousands)\":\"Population_1k\"}, axis = 1, inplace = True)\n",
    "df[[\"Population_1k\"]] = df[[\"Population_1k\"]].astype(int)"
   ]
  },
  {
   "cell_type": "markdown",
   "id": "053ee15e",
   "metadata": {},
   "source": [
    "#### The day that countries reported at least 10 cases for the first time"
   ]
  },
  {
   "cell_type": "code",
   "execution_count": 24,
   "id": "30282bfe",
   "metadata": {},
   "outputs": [],
   "source": [
    "Case10Day = df[df[\"Confirmed\"] >= 10].groupby(\"Country\").min().reset_index()[[\"Country\",\"Date\"]]\n",
    "Case10Day.rename({\"Date\":\"TenCase\"}, axis = 1, inplace = True)\n",
    "df = pd.merge(df, Case10Day,  how=\"left\", left_on=[\"Country\"], right_on = [\"Country\"])"
   ]
  },
  {
   "cell_type": "markdown",
   "id": "17fb0e0d",
   "metadata": {},
   "source": [
    "#### Cumulative cases per 1,000 people"
   ]
  },
  {
   "cell_type": "code",
   "execution_count": 25,
   "id": "4669456f",
   "metadata": {},
   "outputs": [],
   "source": [
    "df[\"Cases/1000s\"] = df[\"Confirmed\"].divide(df[\"Population_1k\"]).fillna(0)"
   ]
  },
  {
   "cell_type": "code",
   "execution_count": 26,
   "id": "0eb4c424",
   "metadata": {},
   "outputs": [
    {
     "data": {
      "text/html": [
       "<div>\n",
       "<style scoped>\n",
       "    .dataframe tbody tr th:only-of-type {\n",
       "        vertical-align: middle;\n",
       "    }\n",
       "\n",
       "    .dataframe tbody tr th {\n",
       "        vertical-align: top;\n",
       "    }\n",
       "\n",
       "    .dataframe thead th {\n",
       "        text-align: right;\n",
       "    }\n",
       "</style>\n",
       "<table border=\"1\" class=\"dataframe\">\n",
       "  <thead>\n",
       "    <tr style=\"text-align: right;\">\n",
       "      <th></th>\n",
       "      <th>Country</th>\n",
       "      <th>Date</th>\n",
       "      <th>Confirmed</th>\n",
       "      <th>Recovered</th>\n",
       "      <th>Deaths</th>\n",
       "      <th>Active Cases</th>\n",
       "      <th>Death Rate(%)</th>\n",
       "      <th>Increase</th>\n",
       "      <th>FirstDays</th>\n",
       "      <th>day_xth</th>\n",
       "      <th>Population_1k</th>\n",
       "      <th>TenCase</th>\n",
       "      <th>Cases/1000s</th>\n",
       "    </tr>\n",
       "  </thead>\n",
       "  <tbody>\n",
       "    <tr>\n",
       "      <th>0</th>\n",
       "      <td>Afghanistan</td>\n",
       "      <td>2020-01-22</td>\n",
       "      <td>0</td>\n",
       "      <td>0</td>\n",
       "      <td>0</td>\n",
       "      <td>0</td>\n",
       "      <td>0.0</td>\n",
       "      <td>0</td>\n",
       "      <td>2020-02-24</td>\n",
       "      <td>0</td>\n",
       "      <td>38928</td>\n",
       "      <td>2020-03-11</td>\n",
       "      <td>0.0</td>\n",
       "    </tr>\n",
       "    <tr>\n",
       "      <th>1</th>\n",
       "      <td>Afghanistan</td>\n",
       "      <td>2020-01-23</td>\n",
       "      <td>0</td>\n",
       "      <td>0</td>\n",
       "      <td>0</td>\n",
       "      <td>0</td>\n",
       "      <td>0.0</td>\n",
       "      <td>0</td>\n",
       "      <td>2020-02-24</td>\n",
       "      <td>0</td>\n",
       "      <td>38928</td>\n",
       "      <td>2020-03-11</td>\n",
       "      <td>0.0</td>\n",
       "    </tr>\n",
       "    <tr>\n",
       "      <th>2</th>\n",
       "      <td>Afghanistan</td>\n",
       "      <td>2020-01-24</td>\n",
       "      <td>0</td>\n",
       "      <td>0</td>\n",
       "      <td>0</td>\n",
       "      <td>0</td>\n",
       "      <td>0.0</td>\n",
       "      <td>0</td>\n",
       "      <td>2020-02-24</td>\n",
       "      <td>0</td>\n",
       "      <td>38928</td>\n",
       "      <td>2020-03-11</td>\n",
       "      <td>0.0</td>\n",
       "    </tr>\n",
       "    <tr>\n",
       "      <th>3</th>\n",
       "      <td>Afghanistan</td>\n",
       "      <td>2020-01-25</td>\n",
       "      <td>0</td>\n",
       "      <td>0</td>\n",
       "      <td>0</td>\n",
       "      <td>0</td>\n",
       "      <td>0.0</td>\n",
       "      <td>0</td>\n",
       "      <td>2020-02-24</td>\n",
       "      <td>0</td>\n",
       "      <td>38928</td>\n",
       "      <td>2020-03-11</td>\n",
       "      <td>0.0</td>\n",
       "    </tr>\n",
       "    <tr>\n",
       "      <th>4</th>\n",
       "      <td>Afghanistan</td>\n",
       "      <td>2020-01-26</td>\n",
       "      <td>0</td>\n",
       "      <td>0</td>\n",
       "      <td>0</td>\n",
       "      <td>0</td>\n",
       "      <td>0.0</td>\n",
       "      <td>0</td>\n",
       "      <td>2020-02-24</td>\n",
       "      <td>0</td>\n",
       "      <td>38928</td>\n",
       "      <td>2020-03-11</td>\n",
       "      <td>0.0</td>\n",
       "    </tr>\n",
       "  </tbody>\n",
       "</table>\n",
       "</div>"
      ],
      "text/plain": [
       "       Country       Date  Confirmed  Recovered  Deaths  Active Cases  \\\n",
       "0  Afghanistan 2020-01-22          0          0       0             0   \n",
       "1  Afghanistan 2020-01-23          0          0       0             0   \n",
       "2  Afghanistan 2020-01-24          0          0       0             0   \n",
       "3  Afghanistan 2020-01-25          0          0       0             0   \n",
       "4  Afghanistan 2020-01-26          0          0       0             0   \n",
       "\n",
       "   Death Rate(%)  Increase  FirstDays  day_xth  Population_1k    TenCase  \\\n",
       "0            0.0         0 2020-02-24        0          38928 2020-03-11   \n",
       "1            0.0         0 2020-02-24        0          38928 2020-03-11   \n",
       "2            0.0         0 2020-02-24        0          38928 2020-03-11   \n",
       "3            0.0         0 2020-02-24        0          38928 2020-03-11   \n",
       "4            0.0         0 2020-02-24        0          38928 2020-03-11   \n",
       "\n",
       "   Cases/1000s  \n",
       "0          0.0  \n",
       "1          0.0  \n",
       "2          0.0  \n",
       "3          0.0  \n",
       "4          0.0  "
      ]
     },
     "execution_count": 26,
     "metadata": {},
     "output_type": "execute_result"
    }
   ],
   "source": [
    "df.head()"
   ]
  },
  {
   "cell_type": "markdown",
   "id": "526bde47",
   "metadata": {},
   "source": [
    "# Data Cleaning"
   ]
  },
  {
   "cell_type": "markdown",
   "id": "fbf9e1eb",
   "metadata": {},
   "source": [
    "### Checking the source, using anomalies"
   ]
  },
  {
   "cell_type": "markdown",
   "id": "393f0565",
   "metadata": {},
   "source": [
    "##### Counts and cumulative values of the increases where they were calculated as negative values"
   ]
  },
  {
   "cell_type": "code",
   "execution_count": 27,
   "id": "f8929ad5",
   "metadata": {},
   "outputs": [
    {
     "data": {
      "text/html": [
       "<div>\n",
       "<style scoped>\n",
       "    .dataframe tbody tr th:only-of-type {\n",
       "        vertical-align: middle;\n",
       "    }\n",
       "\n",
       "    .dataframe tbody tr th {\n",
       "        vertical-align: top;\n",
       "    }\n",
       "\n",
       "    .dataframe thead th {\n",
       "        text-align: right;\n",
       "    }\n",
       "</style>\n",
       "<table border=\"1\" class=\"dataframe\">\n",
       "  <thead>\n",
       "    <tr style=\"text-align: right;\">\n",
       "      <th></th>\n",
       "      <th>sum</th>\n",
       "      <th>count</th>\n",
       "    </tr>\n",
       "    <tr>\n",
       "      <th>Country</th>\n",
       "      <th></th>\n",
       "      <th></th>\n",
       "    </tr>\n",
       "  </thead>\n",
       "  <tbody>\n",
       "    <tr>\n",
       "      <th>Spain</th>\n",
       "      <td>-84753</td>\n",
       "      <td>3</td>\n",
       "    </tr>\n",
       "    <tr>\n",
       "      <th>Ecuador</th>\n",
       "      <td>-11066</td>\n",
       "      <td>4</td>\n",
       "    </tr>\n",
       "    <tr>\n",
       "      <th>United Kingdom</th>\n",
       "      <td>-7149</td>\n",
       "      <td>2</td>\n",
       "    </tr>\n",
       "    <tr>\n",
       "      <th>Czechia</th>\n",
       "      <td>-2214</td>\n",
       "      <td>1</td>\n",
       "    </tr>\n",
       "    <tr>\n",
       "      <th>Denmark</th>\n",
       "      <td>-2001</td>\n",
       "      <td>1</td>\n",
       "    </tr>\n",
       "    <tr>\n",
       "      <th>Luxembourg</th>\n",
       "      <td>-1348</td>\n",
       "      <td>1</td>\n",
       "    </tr>\n",
       "    <tr>\n",
       "      <th>France</th>\n",
       "      <td>-766</td>\n",
       "      <td>1</td>\n",
       "    </tr>\n",
       "    <tr>\n",
       "      <th>Benin</th>\n",
       "      <td>-209</td>\n",
       "      <td>1</td>\n",
       "    </tr>\n",
       "    <tr>\n",
       "      <th>Portugal</th>\n",
       "      <td>-161</td>\n",
       "      <td>1</td>\n",
       "    </tr>\n",
       "    <tr>\n",
       "      <th>Italy</th>\n",
       "      <td>-148</td>\n",
       "      <td>1</td>\n",
       "    </tr>\n",
       "  </tbody>\n",
       "</table>\n",
       "</div>"
      ],
      "text/plain": [
       "                  sum  count\n",
       "Country                     \n",
       "Spain          -84753      3\n",
       "Ecuador        -11066      4\n",
       "United Kingdom  -7149      2\n",
       "Czechia         -2214      1\n",
       "Denmark         -2001      1\n",
       "Luxembourg      -1348      1\n",
       "France           -766      1\n",
       "Benin            -209      1\n",
       "Portugal         -161      1\n",
       "Italy            -148      1"
      ]
     },
     "execution_count": 27,
     "metadata": {},
     "output_type": "execute_result"
    }
   ],
   "source": [
    "df[df[\"Increase\"] < 0].groupby(\"Country\").agg([\"sum\",\"count\"])[\"Increase\"].sort_values([\"sum\"]).head(10)"
   ]
  },
  {
   "cell_type": "markdown",
   "id": "abfa1b6f",
   "metadata": {},
   "source": [
    "Especially in the first days of the pandemic, these negative values were mostly occurred because of the obscurity of the virus. Sometimes, officials changed their minds and case numbers when we were less experienced.\n",
    "\n",
    "To see the causes in this dataset; data of Spain, France and Ecuador were compared with the data from other sources. They were recorded with the same values, except France.\n",
    "\n",
    "Errors in data of France were discovered in this step. Therefore, updated. The initial value in the count attribute for France was almost 10 days."
   ]
  },
  {
   "cell_type": "markdown",
   "id": "401615f1",
   "metadata": {},
   "source": [
    "##### Counts and cumulative values of the active cases where they were calculated as negative values"
   ]
  },
  {
   "cell_type": "code",
   "execution_count": 28,
   "id": "fadcd35a",
   "metadata": {},
   "outputs": [
    {
     "data": {
      "text/html": [
       "<div>\n",
       "<style scoped>\n",
       "    .dataframe tbody tr th:only-of-type {\n",
       "        vertical-align: middle;\n",
       "    }\n",
       "\n",
       "    .dataframe tbody tr th {\n",
       "        vertical-align: top;\n",
       "    }\n",
       "\n",
       "    .dataframe thead th {\n",
       "        text-align: right;\n",
       "    }\n",
       "</style>\n",
       "<table border=\"1\" class=\"dataframe\">\n",
       "  <thead>\n",
       "    <tr style=\"text-align: right;\">\n",
       "      <th></th>\n",
       "      <th>sum</th>\n",
       "      <th>count</th>\n",
       "    </tr>\n",
       "    <tr>\n",
       "      <th>Country</th>\n",
       "      <th></th>\n",
       "      <th></th>\n",
       "    </tr>\n",
       "  </thead>\n",
       "  <tbody>\n",
       "    <tr>\n",
       "      <th>Peru</th>\n",
       "      <td>-211828</td>\n",
       "      <td>21</td>\n",
       "    </tr>\n",
       "    <tr>\n",
       "      <th>El Salvador</th>\n",
       "      <td>-3628</td>\n",
       "      <td>4</td>\n",
       "    </tr>\n",
       "    <tr>\n",
       "      <th>Cote d'Ivoire</th>\n",
       "      <td>-62</td>\n",
       "      <td>1</td>\n",
       "    </tr>\n",
       "    <tr>\n",
       "      <th>Suriname</th>\n",
       "      <td>-18</td>\n",
       "      <td>4</td>\n",
       "    </tr>\n",
       "    <tr>\n",
       "      <th>Timor-Leste</th>\n",
       "      <td>-4</td>\n",
       "      <td>1</td>\n",
       "    </tr>\n",
       "    <tr>\n",
       "      <th>Djibouti</th>\n",
       "      <td>-3</td>\n",
       "      <td>1</td>\n",
       "    </tr>\n",
       "    <tr>\n",
       "      <th>Uganda</th>\n",
       "      <td>-2</td>\n",
       "      <td>1</td>\n",
       "    </tr>\n",
       "    <tr>\n",
       "      <th>Barbados</th>\n",
       "      <td>-1</td>\n",
       "      <td>1</td>\n",
       "    </tr>\n",
       "    <tr>\n",
       "      <th>Sudan</th>\n",
       "      <td>-1</td>\n",
       "      <td>1</td>\n",
       "    </tr>\n",
       "  </tbody>\n",
       "</table>\n",
       "</div>"
      ],
      "text/plain": [
       "                  sum  count\n",
       "Country                     \n",
       "Peru          -211828     21\n",
       "El Salvador     -3628      4\n",
       "Cote d'Ivoire     -62      1\n",
       "Suriname          -18      4\n",
       "Timor-Leste        -4      1\n",
       "Djibouti           -3      1\n",
       "Uganda             -2      1\n",
       "Barbados           -1      1\n",
       "Sudan              -1      1"
      ]
     },
     "execution_count": 28,
     "metadata": {},
     "output_type": "execute_result"
    }
   ],
   "source": [
    "df[df[\"Active Cases\"] < 0].groupby(\"Country\").agg([\"sum\",\"count\"])[\"Active Cases\"].sort_values([\"sum\"]).head(10)"
   ]
  },
  {
   "cell_type": "markdown",
   "id": "0e6abda7",
   "metadata": {},
   "source": [
    "Negative values in the active cases attribute most likely to show the lack/ineffectiveness of testings in a country. Infected individuals may be passing away before a confirmation"
   ]
  },
  {
   "cell_type": "markdown",
   "id": "ad19580b",
   "metadata": {},
   "source": [
    "### Checking the created attributes, comparing different calculations "
   ]
  },
  {
   "cell_type": "markdown",
   "id": "6406a146",
   "metadata": {},
   "source": [
    "#### Exploring NaN values"
   ]
  },
  {
   "cell_type": "code",
   "execution_count": 29,
   "id": "4cba71d5",
   "metadata": {},
   "outputs": [
    {
     "name": "stdout",
     "output_type": "stream",
     "text": [
      "<class 'pandas.core.frame.DataFrame'>\n",
      "Int64Index: 92737 entries, 0 to 92736\n",
      "Data columns (total 13 columns):\n",
      " #   Column         Non-Null Count  Dtype         \n",
      "---  ------         --------------  -----         \n",
      " 0   Country        92737 non-null  object        \n",
      " 1   Date           92737 non-null  datetime64[ns]\n",
      " 2   Confirmed      92737 non-null  int64         \n",
      " 3   Recovered      92737 non-null  int64         \n",
      " 4   Deaths         92737 non-null  int64         \n",
      " 5   Active Cases   92737 non-null  int64         \n",
      " 6   Death Rate(%)  92737 non-null  float64       \n",
      " 7   Increase       92737 non-null  int32         \n",
      " 8   FirstDays      92737 non-null  datetime64[ns]\n",
      " 9   day_xth        92737 non-null  int64         \n",
      " 10  Population_1k  92737 non-null  int32         \n",
      " 11  TenCase        90322 non-null  datetime64[ns]\n",
      " 12  Cases/1000s    92737 non-null  float64       \n",
      "dtypes: datetime64[ns](3), float64(2), int32(2), int64(5), object(1)\n",
      "memory usage: 9.2+ MB\n"
     ]
    }
   ],
   "source": [
    "df.info()"
   ]
  },
  {
   "cell_type": "markdown",
   "id": "d43e7c72",
   "metadata": {},
   "source": [
    "The number of countries that never reported more than 10 cases is shown below"
   ]
  },
  {
   "cell_type": "code",
   "execution_count": 30,
   "id": "6107ba38",
   "metadata": {},
   "outputs": [
    {
     "data": {
      "text/plain": [
       "5"
      ]
     },
     "execution_count": 30,
     "metadata": {},
     "output_type": "execute_result"
    }
   ],
   "source": [
    "(df.groupby(\"Country\").max()[\"Confirmed\"] < 10).sum()"
   ]
  },
  {
   "cell_type": "markdown",
   "id": "5500d924",
   "metadata": {},
   "source": [
    "The number of countries that has a null value in \"TenCaseDate\" is shown below"
   ]
  },
  {
   "cell_type": "code",
   "execution_count": 31,
   "id": "09e96285",
   "metadata": {},
   "outputs": [
    {
     "data": {
      "text/plain": [
       "5"
      ]
     },
     "execution_count": 31,
     "metadata": {},
     "output_type": "execute_result"
    }
   ],
   "source": [
    "df[df[\"TenCase\"].isnull()].value_counts(\"Country\").count()"
   ]
  },
  {
   "cell_type": "markdown",
   "id": "28965307",
   "metadata": {},
   "source": [
    "Five countries have never reported 10 cases, hence the null values in the \"TenCase\" attribute"
   ]
  },
  {
   "cell_type": "markdown",
   "id": "e1ba15e7",
   "metadata": {},
   "source": [
    "#### Comparing \"Confirmed\" and \"Increase\" "
   ]
  },
  {
   "cell_type": "markdown",
   "id": "ad3b3e44",
   "metadata": {},
   "source": [
    "The last values in the \"Confirmed\" are supposed to be equal to the sum of \"Increase\""
   ]
  },
  {
   "cell_type": "code",
   "execution_count": 32,
   "id": "4a4b775a",
   "metadata": {},
   "outputs": [
    {
     "data": {
      "text/html": [
       "<div>\n",
       "<style scoped>\n",
       "    .dataframe tbody tr th:only-of-type {\n",
       "        vertical-align: middle;\n",
       "    }\n",
       "\n",
       "    .dataframe tbody tr th {\n",
       "        vertical-align: top;\n",
       "    }\n",
       "\n",
       "    .dataframe thead th {\n",
       "        text-align: right;\n",
       "    }\n",
       "</style>\n",
       "<table border=\"1\" class=\"dataframe\">\n",
       "  <thead>\n",
       "    <tr style=\"text-align: right;\">\n",
       "      <th></th>\n",
       "      <th>0</th>\n",
       "    </tr>\n",
       "    <tr>\n",
       "      <th>Country</th>\n",
       "      <th></th>\n",
       "    </tr>\n",
       "  </thead>\n",
       "  <tbody>\n",
       "    <tr>\n",
       "      <th>China</th>\n",
       "      <td>548</td>\n",
       "    </tr>\n",
       "    <tr>\n",
       "      <th>Japan</th>\n",
       "      <td>2</td>\n",
       "    </tr>\n",
       "    <tr>\n",
       "      <th>Korea, South</th>\n",
       "      <td>1</td>\n",
       "    </tr>\n",
       "    <tr>\n",
       "      <th>Taiwan*</th>\n",
       "      <td>1</td>\n",
       "    </tr>\n",
       "    <tr>\n",
       "      <th>Thailand</th>\n",
       "      <td>4</td>\n",
       "    </tr>\n",
       "    <tr>\n",
       "      <th>US</th>\n",
       "      <td>1</td>\n",
       "    </tr>\n",
       "  </tbody>\n",
       "</table>\n",
       "</div>"
      ],
      "text/plain": [
       "                0\n",
       "Country          \n",
       "China         548\n",
       "Japan           2\n",
       "Korea, South    1\n",
       "Taiwan*         1\n",
       "Thailand        4\n",
       "US              1"
      ]
     },
     "execution_count": 32,
     "metadata": {},
     "output_type": "execute_result"
    }
   ],
   "source": [
    "df2 = df.groupby([\"Country\"]).agg([\"sum\",\"last\"])[[\"Confirmed\",\"Increase\"]]\n",
    "\n",
    "df3 = df2[\"Confirmed\"][\"last\"] - df2[\"Increase\"][\"sum\"]\n",
    "\n",
    "df3 = pd.DataFrame(data = df3)\n",
    "\n",
    "df3[df3[0] !=0]"
   ]
  },
  {
   "cell_type": "markdown",
   "id": "ce140e15",
   "metadata": {},
   "source": [
    "Increase values for the first day in the dataset can not be calculated for six countries that started to confirm cases before the first day in the dataset.\n",
    "\n",
    "Checking to see if only the first days of these countries cause the difference; "
   ]
  },
  {
   "cell_type": "code",
   "execution_count": 33,
   "id": "9b97aefc",
   "metadata": {},
   "outputs": [
    {
     "data": {
      "text/html": [
       "<div>\n",
       "<style scoped>\n",
       "    .dataframe tbody tr th:only-of-type {\n",
       "        vertical-align: middle;\n",
       "    }\n",
       "\n",
       "    .dataframe tbody tr th {\n",
       "        vertical-align: top;\n",
       "    }\n",
       "\n",
       "    .dataframe thead th {\n",
       "        text-align: right;\n",
       "    }\n",
       "</style>\n",
       "<table border=\"1\" class=\"dataframe\">\n",
       "  <thead>\n",
       "    <tr style=\"text-align: right;\">\n",
       "      <th></th>\n",
       "      <th>Country</th>\n",
       "      <th>Confirmed</th>\n",
       "    </tr>\n",
       "  </thead>\n",
       "  <tbody>\n",
       "    <tr>\n",
       "      <th>17388</th>\n",
       "      <td>China</td>\n",
       "      <td>548</td>\n",
       "    </tr>\n",
       "    <tr>\n",
       "      <th>42022</th>\n",
       "      <td>Japan</td>\n",
       "      <td>2</td>\n",
       "    </tr>\n",
       "    <tr>\n",
       "      <th>43954</th>\n",
       "      <td>Korea, South</td>\n",
       "      <td>1</td>\n",
       "    </tr>\n",
       "    <tr>\n",
       "      <th>81628</th>\n",
       "      <td>Taiwan*</td>\n",
       "      <td>1</td>\n",
       "    </tr>\n",
       "    <tr>\n",
       "      <th>83077</th>\n",
       "      <td>Thailand</td>\n",
       "      <td>4</td>\n",
       "    </tr>\n",
       "    <tr>\n",
       "      <th>85975</th>\n",
       "      <td>US</td>\n",
       "      <td>1</td>\n",
       "    </tr>\n",
       "  </tbody>\n",
       "</table>\n",
       "</div>"
      ],
      "text/plain": [
       "            Country  Confirmed\n",
       "17388         China        548\n",
       "42022         Japan          2\n",
       "43954  Korea, South          1\n",
       "81628       Taiwan*          1\n",
       "83077      Thailand          4\n",
       "85975            US          1"
      ]
     },
     "execution_count": 33,
     "metadata": {},
     "output_type": "execute_result"
    }
   ],
   "source": [
    "country6 = df3[df3[0] !=0].index\n",
    "\n",
    "filtered = df[df.Country.isin(country6)]\n",
    "\n",
    "filtered[filtered[\"Date\"] == \"2020-01-22\"][[\"Country\",\"Confirmed\"]]"
   ]
  },
  {
   "cell_type": "markdown",
   "id": "7dc0a5d9",
   "metadata": {},
   "source": [
    "Increase values were correctly calculated for the rest of the set.\n",
    "\n",
    "Also, the \"FirstDays\" for these countries and \"TenCase\" for China must be updated."
   ]
  },
  {
   "cell_type": "code",
   "execution_count": 34,
   "id": "7dd37a89",
   "metadata": {},
   "outputs": [],
   "source": [
    "df.loc[df.Country == \"China\", \"FirstDays\"] = \"2019-12-31\"\n",
    "df.loc[df.Country == \"China\", \"TenCase\"] = \"2019-12-31\"\n",
    "df.loc[df.Country == \"Japan\", \"FirstDays\"] = \"2020-01-16\"\n",
    "df.loc[df.Country == \"Korea, South\", \"FirstDays\"] = \"2020-01-20\"\n",
    "df.loc[df.Country == \"Taiwan*\", \"FirstDays\"] = \"2020-01-21\"\n",
    "df.loc[df.Country == \"Thailand\", \"FirstDays\"] = \"2020-01-08\"\n",
    "df.loc[df.Country == \"US\", \"FirstDays\"] = \"2020-01-21\"\n",
    "\n",
    "df[\"FirstDays\"] = pd.to_datetime(df.FirstDays)\n",
    "df[\"TenCase\"] = pd.to_datetime(df.TenCase)"
   ]
  },
  {
   "cell_type": "markdown",
   "id": "91105643",
   "metadata": {},
   "source": [
    "Lastly, increase for the first day of these 6 countries must be updated"
   ]
  },
  {
   "cell_type": "code",
   "execution_count": 35,
   "id": "459f8163",
   "metadata": {},
   "outputs": [],
   "source": [
    "df.loc[(df[\"Date\"] == \"2020-01-22\") & (df[\"Country\"] == \"China\"), [\"Increase\"]] = None\n",
    "df.loc[(df[\"Date\"] == \"2020-01-22\") & (df[\"Country\"] == \"Japan\"), [\"Increase\"]] = None\n",
    "df.loc[(df[\"Date\"] == \"2020-01-22\") & (df[\"Country\"] == \"Korea, South\"), [\"Increase\"]] = None\n",
    "df.loc[(df[\"Date\"] == \"2020-01-22\") & (df[\"Country\"] == \"Taiwan*\"), [\"Increase\"]] = None\n",
    "df.loc[(df[\"Date\"] == \"2020-01-22\") & (df[\"Country\"] == \"Thailand\"), [\"Increase\"]] = None\n",
    "df.loc[(df[\"Date\"] == \"2020-01-22\") & (df[\"Country\"] == \"US\"), [\"Increase\"]] = None"
   ]
  },
  {
   "cell_type": "markdown",
   "id": "3eb6bb95",
   "metadata": {},
   "source": [
    "# Saving the dataset"
   ]
  },
  {
   "cell_type": "code",
   "execution_count": 36,
   "id": "f89de81b",
   "metadata": {},
   "outputs": [],
   "source": [
    "df.to_csv(\"Covid-19 Dataset.csv\")"
   ]
  },
  {
   "cell_type": "code",
   "execution_count": 37,
   "id": "3e8b655c",
   "metadata": {},
   "outputs": [
    {
     "data": {
      "text/html": [
       "<div>\n",
       "<style scoped>\n",
       "    .dataframe tbody tr th:only-of-type {\n",
       "        vertical-align: middle;\n",
       "    }\n",
       "\n",
       "    .dataframe tbody tr th {\n",
       "        vertical-align: top;\n",
       "    }\n",
       "\n",
       "    .dataframe thead th {\n",
       "        text-align: right;\n",
       "    }\n",
       "</style>\n",
       "<table border=\"1\" class=\"dataframe\">\n",
       "  <thead>\n",
       "    <tr style=\"text-align: right;\">\n",
       "      <th></th>\n",
       "      <th>Country</th>\n",
       "      <th>Date</th>\n",
       "      <th>Confirmed</th>\n",
       "      <th>Recovered</th>\n",
       "      <th>Deaths</th>\n",
       "      <th>Active Cases</th>\n",
       "      <th>Death Rate(%)</th>\n",
       "      <th>Increase</th>\n",
       "      <th>FirstDays</th>\n",
       "      <th>day_xth</th>\n",
       "      <th>Population_1k</th>\n",
       "      <th>TenCase</th>\n",
       "      <th>Cases/1000s</th>\n",
       "    </tr>\n",
       "  </thead>\n",
       "  <tbody>\n",
       "    <tr>\n",
       "      <th>0</th>\n",
       "      <td>Afghanistan</td>\n",
       "      <td>2020-01-22</td>\n",
       "      <td>0</td>\n",
       "      <td>0</td>\n",
       "      <td>0</td>\n",
       "      <td>0</td>\n",
       "      <td>0.000000</td>\n",
       "      <td>0.0</td>\n",
       "      <td>2020-02-24</td>\n",
       "      <td>0</td>\n",
       "      <td>38928</td>\n",
       "      <td>2020-03-11</td>\n",
       "      <td>0.000000</td>\n",
       "    </tr>\n",
       "    <tr>\n",
       "      <th>1</th>\n",
       "      <td>Afghanistan</td>\n",
       "      <td>2020-01-23</td>\n",
       "      <td>0</td>\n",
       "      <td>0</td>\n",
       "      <td>0</td>\n",
       "      <td>0</td>\n",
       "      <td>0.000000</td>\n",
       "      <td>0.0</td>\n",
       "      <td>2020-02-24</td>\n",
       "      <td>0</td>\n",
       "      <td>38928</td>\n",
       "      <td>2020-03-11</td>\n",
       "      <td>0.000000</td>\n",
       "    </tr>\n",
       "    <tr>\n",
       "      <th>2</th>\n",
       "      <td>Afghanistan</td>\n",
       "      <td>2020-01-24</td>\n",
       "      <td>0</td>\n",
       "      <td>0</td>\n",
       "      <td>0</td>\n",
       "      <td>0</td>\n",
       "      <td>0.000000</td>\n",
       "      <td>0.0</td>\n",
       "      <td>2020-02-24</td>\n",
       "      <td>0</td>\n",
       "      <td>38928</td>\n",
       "      <td>2020-03-11</td>\n",
       "      <td>0.000000</td>\n",
       "    </tr>\n",
       "    <tr>\n",
       "      <th>3</th>\n",
       "      <td>Afghanistan</td>\n",
       "      <td>2020-01-25</td>\n",
       "      <td>0</td>\n",
       "      <td>0</td>\n",
       "      <td>0</td>\n",
       "      <td>0</td>\n",
       "      <td>0.000000</td>\n",
       "      <td>0.0</td>\n",
       "      <td>2020-02-24</td>\n",
       "      <td>0</td>\n",
       "      <td>38928</td>\n",
       "      <td>2020-03-11</td>\n",
       "      <td>0.000000</td>\n",
       "    </tr>\n",
       "    <tr>\n",
       "      <th>4</th>\n",
       "      <td>Afghanistan</td>\n",
       "      <td>2020-01-26</td>\n",
       "      <td>0</td>\n",
       "      <td>0</td>\n",
       "      <td>0</td>\n",
       "      <td>0</td>\n",
       "      <td>0.000000</td>\n",
       "      <td>0.0</td>\n",
       "      <td>2020-02-24</td>\n",
       "      <td>0</td>\n",
       "      <td>38928</td>\n",
       "      <td>2020-03-11</td>\n",
       "      <td>0.000000</td>\n",
       "    </tr>\n",
       "    <tr>\n",
       "      <th>...</th>\n",
       "      <td>...</td>\n",
       "      <td>...</td>\n",
       "      <td>...</td>\n",
       "      <td>...</td>\n",
       "      <td>...</td>\n",
       "      <td>...</td>\n",
       "      <td>...</td>\n",
       "      <td>...</td>\n",
       "      <td>...</td>\n",
       "      <td>...</td>\n",
       "      <td>...</td>\n",
       "      <td>...</td>\n",
       "      <td>...</td>\n",
       "    </tr>\n",
       "    <tr>\n",
       "      <th>92732</th>\n",
       "      <td>Zimbabwe</td>\n",
       "      <td>2021-05-14</td>\n",
       "      <td>38535</td>\n",
       "      <td>36308</td>\n",
       "      <td>1582</td>\n",
       "      <td>645</td>\n",
       "      <td>4.105359</td>\n",
       "      <td>44.0</td>\n",
       "      <td>2020-03-20</td>\n",
       "      <td>420</td>\n",
       "      <td>14862</td>\n",
       "      <td>2020-04-06</td>\n",
       "      <td>2.592854</td>\n",
       "    </tr>\n",
       "    <tr>\n",
       "      <th>92733</th>\n",
       "      <td>Zimbabwe</td>\n",
       "      <td>2021-05-15</td>\n",
       "      <td>38554</td>\n",
       "      <td>36318</td>\n",
       "      <td>1582</td>\n",
       "      <td>654</td>\n",
       "      <td>4.103336</td>\n",
       "      <td>19.0</td>\n",
       "      <td>2020-03-20</td>\n",
       "      <td>421</td>\n",
       "      <td>14862</td>\n",
       "      <td>2020-04-06</td>\n",
       "      <td>2.594133</td>\n",
       "    </tr>\n",
       "    <tr>\n",
       "      <th>92734</th>\n",
       "      <td>Zimbabwe</td>\n",
       "      <td>2021-05-16</td>\n",
       "      <td>38560</td>\n",
       "      <td>36329</td>\n",
       "      <td>1582</td>\n",
       "      <td>649</td>\n",
       "      <td>4.102697</td>\n",
       "      <td>6.0</td>\n",
       "      <td>2020-03-20</td>\n",
       "      <td>422</td>\n",
       "      <td>14862</td>\n",
       "      <td>2020-04-06</td>\n",
       "      <td>2.594536</td>\n",
       "    </tr>\n",
       "    <tr>\n",
       "      <th>92735</th>\n",
       "      <td>Zimbabwe</td>\n",
       "      <td>2021-05-17</td>\n",
       "      <td>38572</td>\n",
       "      <td>36349</td>\n",
       "      <td>1582</td>\n",
       "      <td>641</td>\n",
       "      <td>4.101421</td>\n",
       "      <td>12.0</td>\n",
       "      <td>2020-03-20</td>\n",
       "      <td>423</td>\n",
       "      <td>14862</td>\n",
       "      <td>2020-04-06</td>\n",
       "      <td>2.595344</td>\n",
       "    </tr>\n",
       "    <tr>\n",
       "      <th>92736</th>\n",
       "      <td>Zimbabwe</td>\n",
       "      <td>2021-05-18</td>\n",
       "      <td>38595</td>\n",
       "      <td>36371</td>\n",
       "      <td>1583</td>\n",
       "      <td>641</td>\n",
       "      <td>4.101568</td>\n",
       "      <td>23.0</td>\n",
       "      <td>2020-03-20</td>\n",
       "      <td>424</td>\n",
       "      <td>14862</td>\n",
       "      <td>2020-04-06</td>\n",
       "      <td>2.596891</td>\n",
       "    </tr>\n",
       "  </tbody>\n",
       "</table>\n",
       "<p>92737 rows × 13 columns</p>\n",
       "</div>"
      ],
      "text/plain": [
       "           Country       Date  Confirmed  Recovered  Deaths  Active Cases  \\\n",
       "0      Afghanistan 2020-01-22          0          0       0             0   \n",
       "1      Afghanistan 2020-01-23          0          0       0             0   \n",
       "2      Afghanistan 2020-01-24          0          0       0             0   \n",
       "3      Afghanistan 2020-01-25          0          0       0             0   \n",
       "4      Afghanistan 2020-01-26          0          0       0             0   \n",
       "...            ...        ...        ...        ...     ...           ...   \n",
       "92732     Zimbabwe 2021-05-14      38535      36308    1582           645   \n",
       "92733     Zimbabwe 2021-05-15      38554      36318    1582           654   \n",
       "92734     Zimbabwe 2021-05-16      38560      36329    1582           649   \n",
       "92735     Zimbabwe 2021-05-17      38572      36349    1582           641   \n",
       "92736     Zimbabwe 2021-05-18      38595      36371    1583           641   \n",
       "\n",
       "       Death Rate(%)  Increase  FirstDays  day_xth  Population_1k    TenCase  \\\n",
       "0           0.000000       0.0 2020-02-24        0          38928 2020-03-11   \n",
       "1           0.000000       0.0 2020-02-24        0          38928 2020-03-11   \n",
       "2           0.000000       0.0 2020-02-24        0          38928 2020-03-11   \n",
       "3           0.000000       0.0 2020-02-24        0          38928 2020-03-11   \n",
       "4           0.000000       0.0 2020-02-24        0          38928 2020-03-11   \n",
       "...              ...       ...        ...      ...            ...        ...   \n",
       "92732       4.105359      44.0 2020-03-20      420          14862 2020-04-06   \n",
       "92733       4.103336      19.0 2020-03-20      421          14862 2020-04-06   \n",
       "92734       4.102697       6.0 2020-03-20      422          14862 2020-04-06   \n",
       "92735       4.101421      12.0 2020-03-20      423          14862 2020-04-06   \n",
       "92736       4.101568      23.0 2020-03-20      424          14862 2020-04-06   \n",
       "\n",
       "       Cases/1000s  \n",
       "0         0.000000  \n",
       "1         0.000000  \n",
       "2         0.000000  \n",
       "3         0.000000  \n",
       "4         0.000000  \n",
       "...            ...  \n",
       "92732     2.592854  \n",
       "92733     2.594133  \n",
       "92734     2.594536  \n",
       "92735     2.595344  \n",
       "92736     2.596891  \n",
       "\n",
       "[92737 rows x 13 columns]"
      ]
     },
     "execution_count": 37,
     "metadata": {},
     "output_type": "execute_result"
    }
   ],
   "source": [
    "df"
   ]
  }
 ],
 "metadata": {
  "kernelspec": {
   "display_name": "Python 3",
   "language": "python",
   "name": "python3"
  },
  "language_info": {
   "codemirror_mode": {
    "name": "ipython",
    "version": 3
   },
   "file_extension": ".py",
   "mimetype": "text/x-python",
   "name": "python",
   "nbconvert_exporter": "python",
   "pygments_lexer": "ipython3",
   "version": "3.9.5"
  }
 },
 "nbformat": 4,
 "nbformat_minor": 5
}
